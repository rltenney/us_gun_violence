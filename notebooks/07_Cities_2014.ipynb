{
 "cells": [
  {
   "cell_type": "markdown",
   "metadata": {},
   "source": [
    "## Repeating the same process as the last three notebooks, this time for 2014 (the earliest year of complete data): "
   ]
  },
  {
   "cell_type": "code",
   "execution_count": 1,
   "metadata": {},
   "outputs": [],
   "source": [
    "import pandas as pd\n",
    "import matplotlib.pyplot as plt\n",
    "import seaborn as sns\n",
    "\n",
    "%matplotlib inline"
   ]
  },
  {
   "cell_type": "code",
   "execution_count": 2,
   "metadata": {},
   "outputs": [],
   "source": [
    "df = pd.read_csv('../data/guns2_clean.csv', index_col = 0)"
   ]
  },
  {
   "cell_type": "code",
   "execution_count": 3,
   "metadata": {},
   "outputs": [],
   "source": [
    "df_2014 = df.loc['2014-01-01':'2014-12-31']"
   ]
  },
  {
   "cell_type": "code",
   "execution_count": 4,
   "metadata": {},
   "outputs": [],
   "source": [
    "pd.options.mode.chained_assignment = None"
   ]
  },
  {
   "cell_type": "code",
   "execution_count": 5,
   "metadata": {},
   "outputs": [],
   "source": [
    "df_2014['city'] = df_2014['city'] + \", \" + df_2014['state']"
   ]
  },
  {
   "cell_type": "code",
   "execution_count": 6,
   "metadata": {},
   "outputs": [],
   "source": [
    "df_2014.drop(['state'], axis=1, inplace=True)"
   ]
  },
  {
   "cell_type": "code",
   "execution_count": 7,
   "metadata": {},
   "outputs": [],
   "source": [
    "cities_2014 = pd.DataFrame(df_2014.groupby(['city']).n_killed.sum().sort_values(ascending=False))"
   ]
  },
  {
   "cell_type": "code",
   "execution_count": 8,
   "metadata": {},
   "outputs": [
    {
     "data": {
      "text/html": [
       "<div>\n",
       "<style scoped>\n",
       "    .dataframe tbody tr th:only-of-type {\n",
       "        vertical-align: middle;\n",
       "    }\n",
       "\n",
       "    .dataframe tbody tr th {\n",
       "        vertical-align: top;\n",
       "    }\n",
       "\n",
       "    .dataframe thead th {\n",
       "        text-align: right;\n",
       "    }\n",
       "</style>\n",
       "<table border=\"1\" class=\"dataframe\">\n",
       "  <thead>\n",
       "    <tr style=\"text-align: right;\">\n",
       "      <th></th>\n",
       "      <th>n_killed</th>\n",
       "    </tr>\n",
       "    <tr>\n",
       "      <th>city</th>\n",
       "      <th></th>\n",
       "    </tr>\n",
       "  </thead>\n",
       "  <tbody>\n",
       "    <tr>\n",
       "      <th>Chicago, Illinois</th>\n",
       "      <td>414</td>\n",
       "    </tr>\n",
       "    <tr>\n",
       "      <th>Los Angeles, California</th>\n",
       "      <td>236</td>\n",
       "    </tr>\n",
       "    <tr>\n",
       "      <th>Houston, Texas</th>\n",
       "      <td>217</td>\n",
       "    </tr>\n",
       "    <tr>\n",
       "      <th>Philadelphia, Pennsylvania</th>\n",
       "      <td>213</td>\n",
       "    </tr>\n",
       "    <tr>\n",
       "      <th>New York, New York</th>\n",
       "      <td>193</td>\n",
       "    </tr>\n",
       "  </tbody>\n",
       "</table>\n",
       "</div>"
      ],
      "text/plain": [
       "                            n_killed\n",
       "city                                \n",
       "Chicago, Illinois                414\n",
       "Los Angeles, California          236\n",
       "Houston, Texas                   217\n",
       "Philadelphia, Pennsylvania       213\n",
       "New York, New York               193"
      ]
     },
     "execution_count": 8,
     "metadata": {},
     "output_type": "execute_result"
    }
   ],
   "source": [
    "cities_2014.head()"
   ]
  },
  {
   "cell_type": "markdown",
   "metadata": {},
   "source": [
    "## Loading in Census Bureau csv:"
   ]
  },
  {
   "cell_type": "code",
   "execution_count": 9,
   "metadata": {},
   "outputs": [],
   "source": [
    "pop = pd.read_csv('../data/city_pops.csv', header=1, index_col='Rank')"
   ]
  },
  {
   "cell_type": "code",
   "execution_count": 10,
   "metadata": {},
   "outputs": [],
   "source": [
    "pop['Geography.2'].replace('city.+', \"\", regex=True, inplace=True)"
   ]
  },
  {
   "cell_type": "code",
   "execution_count": 11,
   "metadata": {},
   "outputs": [],
   "source": [
    "pop['Geography.1'].replace('^(.+?),', \"\", regex=True, inplace=True)"
   ]
  },
  {
   "cell_type": "code",
   "execution_count": 12,
   "metadata": {},
   "outputs": [],
   "source": [
    "pop = pop[['Geography.2', 'Geography.1', 'Population Estimate (as of July 1) - 2014']]"
   ]
  },
  {
   "cell_type": "code",
   "execution_count": 13,
   "metadata": {},
   "outputs": [],
   "source": [
    "pop.rename(columns= {'Geography.2':'city', 'Geography.1':'state', 'Population Estimate (as of July 1) - 2014':'2014_pop' }, inplace=True)"
   ]
  },
  {
   "cell_type": "code",
   "execution_count": 14,
   "metadata": {},
   "outputs": [],
   "source": [
    "pop['city'] = pop['city'].str.strip()"
   ]
  },
  {
   "cell_type": "code",
   "execution_count": 15,
   "metadata": {},
   "outputs": [],
   "source": [
    "pop['state'] = pop['state'].str.strip()"
   ]
  },
  {
   "cell_type": "code",
   "execution_count": 16,
   "metadata": {},
   "outputs": [],
   "source": [
    "pop['city'] = pop['city'] + \", \" + pop['state']"
   ]
  },
  {
   "cell_type": "code",
   "execution_count": 17,
   "metadata": {},
   "outputs": [],
   "source": [
    "pop.set_index(['city'], inplace=True)"
   ]
  },
  {
   "cell_type": "code",
   "execution_count": 18,
   "metadata": {},
   "outputs": [],
   "source": [
    "pop.drop('state', axis= 1, inplace=True)"
   ]
  },
  {
   "cell_type": "code",
   "execution_count": 19,
   "metadata": {},
   "outputs": [
    {
     "data": {
      "text/html": [
       "<div>\n",
       "<style scoped>\n",
       "    .dataframe tbody tr th:only-of-type {\n",
       "        vertical-align: middle;\n",
       "    }\n",
       "\n",
       "    .dataframe tbody tr th {\n",
       "        vertical-align: top;\n",
       "    }\n",
       "\n",
       "    .dataframe thead th {\n",
       "        text-align: right;\n",
       "    }\n",
       "</style>\n",
       "<table border=\"1\" class=\"dataframe\">\n",
       "  <thead>\n",
       "    <tr style=\"text-align: right;\">\n",
       "      <th></th>\n",
       "      <th>2014_pop</th>\n",
       "    </tr>\n",
       "    <tr>\n",
       "      <th>city</th>\n",
       "      <th></th>\n",
       "    </tr>\n",
       "  </thead>\n",
       "  <tbody>\n",
       "    <tr>\n",
       "      <th>New York, New York</th>\n",
       "      <td>8521135</td>\n",
       "    </tr>\n",
       "    <tr>\n",
       "      <th>Los Angeles, California</th>\n",
       "      <td>3922668</td>\n",
       "    </tr>\n",
       "    <tr>\n",
       "      <th>Chicago, Illinois</th>\n",
       "      <td>2726533</td>\n",
       "    </tr>\n",
       "    <tr>\n",
       "      <th>Houston, Texas</th>\n",
       "      <td>2238795</td>\n",
       "    </tr>\n",
       "    <tr>\n",
       "      <th>Phoenix, Arizona</th>\n",
       "      <td>1547729</td>\n",
       "    </tr>\n",
       "  </tbody>\n",
       "</table>\n",
       "</div>"
      ],
      "text/plain": [
       "                         2014_pop\n",
       "city                             \n",
       "New York, New York        8521135\n",
       "Los Angeles, California   3922668\n",
       "Chicago, Illinois         2726533\n",
       "Houston, Texas            2238795\n",
       "Phoenix, Arizona          1547729"
      ]
     },
     "execution_count": 19,
     "metadata": {},
     "output_type": "execute_result"
    }
   ],
   "source": [
    "pop.head()"
   ]
  },
  {
   "cell_type": "markdown",
   "metadata": {},
   "source": [
    "## Merging population and gun death dataframes:"
   ]
  },
  {
   "cell_type": "code",
   "execution_count": 20,
   "metadata": {},
   "outputs": [],
   "source": [
    "cities_2014 = pd.merge(pop, cities_2014, left_index=True, right_index=True)"
   ]
  },
  {
   "cell_type": "code",
   "execution_count": 21,
   "metadata": {},
   "outputs": [],
   "source": [
    "cities_2014['pc_killed'] = (cities_2014.n_killed / cities_2014['2014_pop']) * 100000"
   ]
  },
  {
   "cell_type": "code",
   "execution_count": 22,
   "metadata": {},
   "outputs": [
    {
     "data": {
      "text/html": [
       "<div>\n",
       "<style scoped>\n",
       "    .dataframe tbody tr th:only-of-type {\n",
       "        vertical-align: middle;\n",
       "    }\n",
       "\n",
       "    .dataframe tbody tr th {\n",
       "        vertical-align: top;\n",
       "    }\n",
       "\n",
       "    .dataframe thead th {\n",
       "        text-align: right;\n",
       "    }\n",
       "</style>\n",
       "<table border=\"1\" class=\"dataframe\">\n",
       "  <thead>\n",
       "    <tr style=\"text-align: right;\">\n",
       "      <th></th>\n",
       "      <th>2014_pop</th>\n",
       "      <th>n_killed</th>\n",
       "      <th>pc_killed</th>\n",
       "    </tr>\n",
       "    <tr>\n",
       "      <th>city</th>\n",
       "      <th></th>\n",
       "      <th></th>\n",
       "      <th></th>\n",
       "    </tr>\n",
       "  </thead>\n",
       "  <tbody>\n",
       "    <tr>\n",
       "      <th>Gary, Indiana</th>\n",
       "      <td>78085</td>\n",
       "      <td>38</td>\n",
       "      <td>48.664916</td>\n",
       "    </tr>\n",
       "    <tr>\n",
       "      <th>New Orleans, Louisiana</th>\n",
       "      <td>384763</td>\n",
       "      <td>163</td>\n",
       "      <td>42.363741</td>\n",
       "    </tr>\n",
       "    <tr>\n",
       "      <th>Wilmington, Delaware</th>\n",
       "      <td>71393</td>\n",
       "      <td>24</td>\n",
       "      <td>33.616741</td>\n",
       "    </tr>\n",
       "    <tr>\n",
       "      <th>Trenton, New Jersey</th>\n",
       "      <td>84937</td>\n",
       "      <td>28</td>\n",
       "      <td>32.965610</td>\n",
       "    </tr>\n",
       "    <tr>\n",
       "      <th>Camden, New Jersey</th>\n",
       "      <td>76219</td>\n",
       "      <td>25</td>\n",
       "      <td>32.800220</td>\n",
       "    </tr>\n",
       "    <tr>\n",
       "      <th>Fort Myers, Florida</th>\n",
       "      <td>70547</td>\n",
       "      <td>23</td>\n",
       "      <td>32.602379</td>\n",
       "    </tr>\n",
       "    <tr>\n",
       "      <th>Jackson, Mississippi</th>\n",
       "      <td>171930</td>\n",
       "      <td>54</td>\n",
       "      <td>31.408131</td>\n",
       "    </tr>\n",
       "    <tr>\n",
       "      <th>Greenville, South Carolina</th>\n",
       "      <td>61349</td>\n",
       "      <td>19</td>\n",
       "      <td>30.970350</td>\n",
       "    </tr>\n",
       "    <tr>\n",
       "      <th>Compton, California</th>\n",
       "      <td>97966</td>\n",
       "      <td>29</td>\n",
       "      <td>29.602107</td>\n",
       "    </tr>\n",
       "    <tr>\n",
       "      <th>Baton Rouge, Louisiana</th>\n",
       "      <td>228435</td>\n",
       "      <td>65</td>\n",
       "      <td>28.454484</td>\n",
       "    </tr>\n",
       "    <tr>\n",
       "      <th>Birmingham, Alabama</th>\n",
       "      <td>210998</td>\n",
       "      <td>60</td>\n",
       "      <td>28.436288</td>\n",
       "    </tr>\n",
       "    <tr>\n",
       "      <th>Baltimore, Maryland</th>\n",
       "      <td>624062</td>\n",
       "      <td>172</td>\n",
       "      <td>27.561364</td>\n",
       "    </tr>\n",
       "    <tr>\n",
       "      <th>Flint, Michigan</th>\n",
       "      <td>98548</td>\n",
       "      <td>27</td>\n",
       "      <td>27.397816</td>\n",
       "    </tr>\n",
       "    <tr>\n",
       "      <th>Newark, New Jersey</th>\n",
       "      <td>281660</td>\n",
       "      <td>77</td>\n",
       "      <td>27.337925</td>\n",
       "    </tr>\n",
       "    <tr>\n",
       "      <th>West Palm Beach, Florida</th>\n",
       "      <td>104426</td>\n",
       "      <td>27</td>\n",
       "      <td>25.855630</td>\n",
       "    </tr>\n",
       "    <tr>\n",
       "      <th>Bradenton, Florida</th>\n",
       "      <td>52160</td>\n",
       "      <td>13</td>\n",
       "      <td>24.923313</td>\n",
       "    </tr>\n",
       "    <tr>\n",
       "      <th>Jackson, Tennessee</th>\n",
       "      <td>67071</td>\n",
       "      <td>16</td>\n",
       "      <td>23.855317</td>\n",
       "    </tr>\n",
       "    <tr>\n",
       "      <th>Dayton, Ohio</th>\n",
       "      <td>140973</td>\n",
       "      <td>33</td>\n",
       "      <td>23.408738</td>\n",
       "    </tr>\n",
       "    <tr>\n",
       "      <th>Saginaw, Michigan</th>\n",
       "      <td>49773</td>\n",
       "      <td>11</td>\n",
       "      <td>22.100336</td>\n",
       "    </tr>\n",
       "    <tr>\n",
       "      <th>Cleveland, Ohio</th>\n",
       "      <td>390653</td>\n",
       "      <td>85</td>\n",
       "      <td>21.758440</td>\n",
       "    </tr>\n",
       "  </tbody>\n",
       "</table>\n",
       "</div>"
      ],
      "text/plain": [
       "                            2014_pop  n_killed  pc_killed\n",
       "city                                                     \n",
       "Gary, Indiana                  78085        38  48.664916\n",
       "New Orleans, Louisiana        384763       163  42.363741\n",
       "Wilmington, Delaware           71393        24  33.616741\n",
       "Trenton, New Jersey            84937        28  32.965610\n",
       "Camden, New Jersey             76219        25  32.800220\n",
       "Fort Myers, Florida            70547        23  32.602379\n",
       "Jackson, Mississippi          171930        54  31.408131\n",
       "Greenville, South Carolina     61349        19  30.970350\n",
       "Compton, California            97966        29  29.602107\n",
       "Baton Rouge, Louisiana        228435        65  28.454484\n",
       "Birmingham, Alabama           210998        60  28.436288\n",
       "Baltimore, Maryland           624062       172  27.561364\n",
       "Flint, Michigan                98548        27  27.397816\n",
       "Newark, New Jersey            281660        77  27.337925\n",
       "West Palm Beach, Florida      104426        27  25.855630\n",
       "Bradenton, Florida             52160        13  24.923313\n",
       "Jackson, Tennessee             67071        16  23.855317\n",
       "Dayton, Ohio                  140973        33  23.408738\n",
       "Saginaw, Michigan              49773        11  22.100336\n",
       "Cleveland, Ohio               390653        85  21.758440"
      ]
     },
     "execution_count": 22,
     "metadata": {},
     "output_type": "execute_result"
    }
   ],
   "source": [
    "top_cities_2014 = cities_2014.sort_values('pc_killed', ascending=False).head(20)\n",
    "top_cities_2014"
   ]
  },
  {
   "cell_type": "code",
   "execution_count": 23,
   "metadata": {},
   "outputs": [
    {
     "data": {
      "text/html": [
       "<div>\n",
       "<style scoped>\n",
       "    .dataframe tbody tr th:only-of-type {\n",
       "        vertical-align: middle;\n",
       "    }\n",
       "\n",
       "    .dataframe tbody tr th {\n",
       "        vertical-align: top;\n",
       "    }\n",
       "\n",
       "    .dataframe thead th {\n",
       "        text-align: right;\n",
       "    }\n",
       "</style>\n",
       "<table border=\"1\" class=\"dataframe\">\n",
       "  <thead>\n",
       "    <tr style=\"text-align: right;\">\n",
       "      <th></th>\n",
       "      <th>2014_pop</th>\n",
       "      <th>n_killed</th>\n",
       "      <th>pc_killed</th>\n",
       "      <th>state</th>\n",
       "    </tr>\n",
       "    <tr>\n",
       "      <th>city</th>\n",
       "      <th></th>\n",
       "      <th></th>\n",
       "      <th></th>\n",
       "      <th></th>\n",
       "    </tr>\n",
       "  </thead>\n",
       "  <tbody>\n",
       "    <tr>\n",
       "      <th>Baltimore</th>\n",
       "      <td>624062</td>\n",
       "      <td>172</td>\n",
       "      <td>27.561364</td>\n",
       "      <td>Maryland</td>\n",
       "    </tr>\n",
       "    <tr>\n",
       "      <th>Detroit</th>\n",
       "      <td>681499</td>\n",
       "      <td>142</td>\n",
       "      <td>20.836421</td>\n",
       "      <td>Michigan</td>\n",
       "    </tr>\n",
       "    <tr>\n",
       "      <th>Las Vegas</th>\n",
       "      <td>611503</td>\n",
       "      <td>108</td>\n",
       "      <td>17.661401</td>\n",
       "      <td>Nevada</td>\n",
       "    </tr>\n",
       "    <tr>\n",
       "      <th>Memphis</th>\n",
       "      <td>655788</td>\n",
       "      <td>110</td>\n",
       "      <td>16.773713</td>\n",
       "      <td>Tennessee</td>\n",
       "    </tr>\n",
       "    <tr>\n",
       "      <th>Indianapolis</th>\n",
       "      <td>849970</td>\n",
       "      <td>136</td>\n",
       "      <td>16.000565</td>\n",
       "      <td>Indiana</td>\n",
       "    </tr>\n",
       "    <tr>\n",
       "      <th>Chicago</th>\n",
       "      <td>2726533</td>\n",
       "      <td>414</td>\n",
       "      <td>15.184118</td>\n",
       "      <td>Illinois</td>\n",
       "    </tr>\n",
       "    <tr>\n",
       "      <th>Milwaukee</th>\n",
       "      <td>601202</td>\n",
       "      <td>91</td>\n",
       "      <td>15.136344</td>\n",
       "      <td>Wisconsin</td>\n",
       "    </tr>\n",
       "    <tr>\n",
       "      <th>Washington</th>\n",
       "      <td>660797</td>\n",
       "      <td>91</td>\n",
       "      <td>13.771249</td>\n",
       "      <td>District of Columbia</td>\n",
       "    </tr>\n",
       "    <tr>\n",
       "      <th>Philadelphia</th>\n",
       "      <td>1564042</td>\n",
       "      <td>213</td>\n",
       "      <td>13.618560</td>\n",
       "      <td>Pennsylvania</td>\n",
       "    </tr>\n",
       "    <tr>\n",
       "      <th>Jacksonville</th>\n",
       "      <td>853479</td>\n",
       "      <td>94</td>\n",
       "      <td>11.013745</td>\n",
       "      <td>Florida</td>\n",
       "    </tr>\n",
       "    <tr>\n",
       "      <th>Columbus</th>\n",
       "      <td>839646</td>\n",
       "      <td>92</td>\n",
       "      <td>10.956999</td>\n",
       "      <td>Ohio</td>\n",
       "    </tr>\n",
       "    <tr>\n",
       "      <th>Fresno</th>\n",
       "      <td>515416</td>\n",
       "      <td>50</td>\n",
       "      <td>9.700902</td>\n",
       "      <td>California</td>\n",
       "    </tr>\n",
       "    <tr>\n",
       "      <th>Houston</th>\n",
       "      <td>2238795</td>\n",
       "      <td>217</td>\n",
       "      <td>9.692714</td>\n",
       "      <td>Texas</td>\n",
       "    </tr>\n",
       "    <tr>\n",
       "      <th>San Antonio</th>\n",
       "      <td>1435554</td>\n",
       "      <td>117</td>\n",
       "      <td>8.150164</td>\n",
       "      <td>Texas</td>\n",
       "    </tr>\n",
       "    <tr>\n",
       "      <th>Dallas</th>\n",
       "      <td>1278504</td>\n",
       "      <td>96</td>\n",
       "      <td>7.508776</td>\n",
       "      <td>Texas</td>\n",
       "    </tr>\n",
       "    <tr>\n",
       "      <th>Albuquerque</th>\n",
       "      <td>555793</td>\n",
       "      <td>38</td>\n",
       "      <td>6.837078</td>\n",
       "      <td>New Mexico</td>\n",
       "    </tr>\n",
       "    <tr>\n",
       "      <th>Charlotte</th>\n",
       "      <td>808320</td>\n",
       "      <td>55</td>\n",
       "      <td>6.804236</td>\n",
       "      <td>North Carolina</td>\n",
       "    </tr>\n",
       "    <tr>\n",
       "      <th>Oklahoma City</th>\n",
       "      <td>620892</td>\n",
       "      <td>38</td>\n",
       "      <td>6.120227</td>\n",
       "      <td>Oklahoma</td>\n",
       "    </tr>\n",
       "    <tr>\n",
       "      <th>Los Angeles</th>\n",
       "      <td>3922668</td>\n",
       "      <td>236</td>\n",
       "      <td>6.016313</td>\n",
       "      <td>California</td>\n",
       "    </tr>\n",
       "    <tr>\n",
       "      <th>Phoenix</th>\n",
       "      <td>1547729</td>\n",
       "      <td>87</td>\n",
       "      <td>5.621139</td>\n",
       "      <td>Arizona</td>\n",
       "    </tr>\n",
       "  </tbody>\n",
       "</table>\n",
       "</div>"
      ],
      "text/plain": [
       "               2014_pop  n_killed  pc_killed                 state\n",
       "city                                                              \n",
       "Baltimore        624062       172  27.561364              Maryland\n",
       "Detroit          681499       142  20.836421              Michigan\n",
       "Las Vegas        611503       108  17.661401                Nevada\n",
       "Memphis          655788       110  16.773713             Tennessee\n",
       "Indianapolis     849970       136  16.000565               Indiana\n",
       "Chicago         2726533       414  15.184118              Illinois\n",
       "Milwaukee        601202        91  15.136344             Wisconsin\n",
       "Washington       660797        91  13.771249  District of Columbia\n",
       "Philadelphia    1564042       213  13.618560          Pennsylvania\n",
       "Jacksonville     853479        94  11.013745               Florida\n",
       "Columbus         839646        92  10.956999                  Ohio\n",
       "Fresno           515416        50   9.700902            California\n",
       "Houston         2238795       217   9.692714                 Texas\n",
       "San Antonio     1435554       117   8.150164                 Texas\n",
       "Dallas          1278504        96   7.508776                 Texas\n",
       "Albuquerque      555793        38   6.837078            New Mexico\n",
       "Charlotte        808320        55   6.804236        North Carolina\n",
       "Oklahoma City    620892        38   6.120227              Oklahoma\n",
       "Los Angeles     3922668       236   6.016313            California\n",
       "Phoenix         1547729        87   5.621139               Arizona"
      ]
     },
     "execution_count": 23,
     "metadata": {},
     "output_type": "execute_result"
    }
   ],
   "source": [
    "top_large_cities_2014 = cities_2014[cities_2014['2014_pop']>=500000].sort_values('pc_killed', ascending=False).head(20)\n",
    "top_large_cities_2014.reset_index(inplace=True)\n",
    "top_large_cities_2014['city'], top_large_cities_2014['state'] = top_large_cities_2014.city.str.split(', ', 1).str\n",
    "top_large_cities_2014.set_index('city', inplace=True)\n",
    "top_large_cities_2014.to_csv('../large_cities_2014.csv')\n",
    "top_large_cities_2014"
   ]
  },
  {
   "cell_type": "code",
   "execution_count": 24,
   "metadata": {},
   "outputs": [
    {
     "data": {
      "image/png": "[encoded data removed]",
      "text/plain": [
       "<Figure size 720x576 with 1 Axes>"
      ]
     },
     "metadata": {},
     "output_type": "display_data"
    }
   ],
   "source": [
    "sns.set(style=\"white\")\n",
    "\n",
    "f, ax = plt.subplots(figsize=(10, 8))\n",
    "colors = ['crimson' if x=='Baltimore, Maryland' else 'black' for x in top_cities_2014.index]\n",
    "sns.barplot(x=top_cities_2014.pc_killed, \n",
    "            y=top_cities_2014.index,\n",
    "            data=top_cities_2014, palette=colors)\n",
    "\n",
    "\n",
    "ax.set_title(\"US Cities by Per Capita Gun Deaths 2014\", fontsize=20)\n",
    "ax.set_xlabel('Gun Deaths per 100k',fontsize=16)\n",
    "ax.set_ylabel(\"\")\n",
    "plt.tick_params(labelsize='large')\n",
    "       \n",
    "sns.despine(left=True, bottom=True)\n",
    "plt.savefig('../images/cities_pc_2014.png')"
   ]
  },
  {
   "cell_type": "code",
   "execution_count": 25,
   "metadata": {},
   "outputs": [
    {
     "data": {
      "image/png": "[encoded data removed]",
      "text/plain": [
       "<Figure size 720x576 with 1 Axes>"
      ]
     },
     "metadata": {},
     "output_type": "display_data"
    }
   ],
   "source": [
    "sns.set(style=\"white\")\n",
    "\n",
    "f, ax = plt.subplots(figsize=(10, 8))\n",
    "colors = ['crimson' if x=='Baltimore' else 'black' for x in top_large_cities_2014.index]\n",
    "sns.barplot(x=top_large_cities_2014.pc_killed, \n",
    "            y=top_large_cities_2014.index,\n",
    "            data=top_large_cities_2014, palette=colors)\n",
    "\n",
    "ax.set_title(\"Large US Cities by Per Capita Gun Deaths 2014\", fontsize=20)\n",
    "ax.set_xlabel('Gun Deaths per 100k',fontsize=16)\n",
    "ax.set_ylabel(\"\")\n",
    "plt.tick_params(labelsize='large')\n",
    "\n",
    "sns.despine(left=True, bottom=True)\n",
    "plt.savefig('../images/large_cities_2014.png')"
   ]
  }
 ],
 "metadata": {
  "kernelspec": {
   "display_name": "Python 3",
   "language": "python",
   "name": "python3"
  },
  "language_info": {
   "codemirror_mode": {
    "name": "ipython",
    "version": 3
   },
   "file_extension": ".py",
   "mimetype": "text/x-python",
   "name": "python",
   "nbconvert_exporter": "python",
   "pygments_lexer": "ipython3",
   "version": "3.6.5"
  }
 },
 "nbformat": 4,
 "nbformat_minor": 2
}
