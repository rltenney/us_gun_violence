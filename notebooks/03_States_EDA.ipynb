{
 "cells": [
  {
   "cell_type": "markdown",
   "metadata": {},
   "source": [
    "## In this notebook, I'll take a closer look at US states. I'm interested in the discrepancy in per capita gun death rates on a state level."
   ]
  },
  {
   "cell_type": "code",
   "execution_count": 73,
   "metadata": {},
   "outputs": [],
   "source": [
    "import pandas as pd\n",
    "import numpy as np\n",
    "import requests \n",
    "from bs4 import BeautifulSoup as bs\n",
    "import matplotlib.pyplot as plt\n",
    "import seaborn as sns\n",
    "%matplotlib inline"
   ]
  },
  {
   "cell_type": "markdown",
   "metadata": {},
   "source": [
    "I relied heavily on this article: https://medium.com/analytics-vidhya/web-scraping-wiki-tables-using-beautifulsoup-and-python-6b9ea26d8722"
   ]
  },
  {
   "cell_type": "markdown",
   "metadata": {},
   "source": [
    "### First, I'm going to read in my 'gun deaths by state' csv file as a Pandas dataframe."
   ]
  },
  {
   "cell_type": "code",
   "execution_count": 74,
   "metadata": {},
   "outputs": [],
   "source": [
    "gd = pd.read_csv('../data/gd_state.csv')"
   ]
  },
  {
   "cell_type": "markdown",
   "metadata": {},
   "source": [
    "### Now I'm going to start scraping Wikipedia for additional information. I'll start with a table of US states by population."
   ]
  },
  {
   "cell_type": "code",
   "execution_count": 75,
   "metadata": {},
   "outputs": [],
   "source": [
    "url = requests.get('https://en.wikipedia.org/wiki/List_of_states_and_territories_of_the_United_States_by_population').text"
   ]
  },
  {
   "cell_type": "code",
   "execution_count": 76,
   "metadata": {},
   "outputs": [],
   "source": [
    "soup = bs(url,'lxml')"
   ]
  },
  {
   "cell_type": "code",
   "execution_count": 77,
   "metadata": {},
   "outputs": [],
   "source": [
    "table = soup.find('table',{'class':'wikitable sortable'})"
   ]
  },
  {
   "cell_type": "code",
   "execution_count": 78,
   "metadata": {},
   "outputs": [],
   "source": [
    "table_df = pd.read_html(str(table),header=0)"
   ]
  },
  {
   "cell_type": "code",
   "execution_count": 79,
   "metadata": {},
   "outputs": [],
   "source": [
    "table_df = table_df[0]"
   ]
  },
  {
   "cell_type": "code",
   "execution_count": 80,
   "metadata": {},
   "outputs": [
    {
     "data": {
      "text/html": [
       "<div>\n",
       "<style scoped>\n",
       "    .dataframe tbody tr th:only-of-type {\n",
       "        vertical-align: middle;\n",
       "    }\n",
       "\n",
       "    .dataframe tbody tr th {\n",
       "        vertical-align: top;\n",
       "    }\n",
       "\n",
       "    .dataframe thead th {\n",
       "        text-align: right;\n",
       "    }\n",
       "</style>\n",
       "<table border=\"1\" class=\"dataframe\">\n",
       "  <thead>\n",
       "    <tr style=\"text-align: right;\">\n",
       "      <th></th>\n",
       "      <th>Rank in the fifty U.S. states, 2017</th>\n",
       "      <th>Rank in all U.S. states and territories, 2010</th>\n",
       "      <th>State or territory</th>\n",
       "      <th>Population estimate, July 1, 2017[4]</th>\n",
       "      <th>Census population, April 1, 2010</th>\n",
       "      <th>Percent increase from 2010-2017[note 1]</th>\n",
       "      <th>Total seats in the U.S. House of Representatives, 2013–2023</th>\n",
       "      <th>Estimated population per electoral vote, 2017[note 2]</th>\n",
       "      <th>Estimated population per House seat, 2017</th>\n",
       "      <th>Census population per House seat, 2010</th>\n",
       "      <th>Percent of the total U.S. population, 2017[note 3]</th>\n",
       "    </tr>\n",
       "  </thead>\n",
       "  <tbody>\n",
       "    <tr>\n",
       "      <th>0</th>\n",
       "      <td>NaN</td>\n",
       "      <td>NaN</td>\n",
       "      <td>California</td>\n",
       "      <td>39536653</td>\n",
       "      <td>37252895</td>\n",
       "      <td>6.13%</td>\n",
       "      <td>NaN</td>\n",
       "      <td>718848</td>\n",
       "      <td>745974</td>\n",
       "      <td>702885</td>\n",
       "      <td>12.14%</td>\n",
       "    </tr>\n",
       "    <tr>\n",
       "      <th>1</th>\n",
       "      <td>NaN</td>\n",
       "      <td>NaN</td>\n",
       "      <td>Texas</td>\n",
       "      <td>28304596</td>\n",
       "      <td>25146105</td>\n",
       "      <td>12.56%</td>\n",
       "      <td>NaN</td>\n",
       "      <td>744858</td>\n",
       "      <td>786238</td>\n",
       "      <td>698503</td>\n",
       "      <td>8.69%</td>\n",
       "    </tr>\n",
       "    <tr>\n",
       "      <th>2</th>\n",
       "      <td>NaN</td>\n",
       "      <td>NaN</td>\n",
       "      <td>Florida</td>\n",
       "      <td>20984400</td>\n",
       "      <td>18804623</td>\n",
       "      <td>11.59%</td>\n",
       "      <td>NaN</td>\n",
       "      <td>734904</td>\n",
       "      <td>777200</td>\n",
       "      <td>696468</td>\n",
       "      <td>6.44%</td>\n",
       "    </tr>\n",
       "    <tr>\n",
       "      <th>3</th>\n",
       "      <td>NaN</td>\n",
       "      <td>NaN</td>\n",
       "      <td>New York</td>\n",
       "      <td>19849399</td>\n",
       "      <td>19378087</td>\n",
       "      <td>2.43%</td>\n",
       "      <td>NaN</td>\n",
       "      <td>684462</td>\n",
       "      <td>735163</td>\n",
       "      <td>717707</td>\n",
       "      <td>6.09%</td>\n",
       "    </tr>\n",
       "    <tr>\n",
       "      <th>4</th>\n",
       "      <td>NaN</td>\n",
       "      <td>NaN</td>\n",
       "      <td>Pennsylvania</td>\n",
       "      <td>12805537</td>\n",
       "      <td>12702887</td>\n",
       "      <td>0.81%</td>\n",
       "      <td>NaN</td>\n",
       "      <td>640277</td>\n",
       "      <td>711419</td>\n",
       "      <td>705715</td>\n",
       "      <td>3.93%</td>\n",
       "    </tr>\n",
       "  </tbody>\n",
       "</table>\n",
       "</div>"
      ],
      "text/plain": [
       "   Rank in the fifty U.S. states, 2017  \\\n",
       "0                                  NaN   \n",
       "1                                  NaN   \n",
       "2                                  NaN   \n",
       "3                                  NaN   \n",
       "4                                  NaN   \n",
       "\n",
       "  Rank in all U.S. states and territories, 2010 State or territory  \\\n",
       "0                                           NaN         California   \n",
       "1                                           NaN              Texas   \n",
       "2                                           NaN            Florida   \n",
       "3                                           NaN           New York   \n",
       "4                                           NaN       Pennsylvania   \n",
       "\n",
       "  Population estimate, July 1, 2017[4] Census population, April 1, 2010  \\\n",
       "0                             39536653                         37252895   \n",
       "1                             28304596                         25146105   \n",
       "2                             20984400                         18804623   \n",
       "3                             19849399                         19378087   \n",
       "4                             12805537                         12702887   \n",
       "\n",
       "  Percent increase from 2010-2017[note 1]  \\\n",
       "0                                   6.13%   \n",
       "1                                  12.56%   \n",
       "2                                  11.59%   \n",
       "3                                   2.43%   \n",
       "4                                   0.81%   \n",
       "\n",
       "  Total seats in the U.S. House of Representatives, 2013–2023  \\\n",
       "0                                                NaN            \n",
       "1                                                NaN            \n",
       "2                                                NaN            \n",
       "3                                                NaN            \n",
       "4                                                NaN            \n",
       "\n",
       "  Estimated population per electoral vote, 2017[note 2]  \\\n",
       "0                                             718848      \n",
       "1                                             744858      \n",
       "2                                             734904      \n",
       "3                                             684462      \n",
       "4                                             640277      \n",
       "\n",
       "  Estimated population per House seat, 2017  \\\n",
       "0                                    745974   \n",
       "1                                    786238   \n",
       "2                                    777200   \n",
       "3                                    735163   \n",
       "4                                    711419   \n",
       "\n",
       "  Census population per House seat, 2010  \\\n",
       "0                                 702885   \n",
       "1                                 698503   \n",
       "2                                 696468   \n",
       "3                                 717707   \n",
       "4                                 705715   \n",
       "\n",
       "  Percent of the total U.S. population, 2017[note 3]  \n",
       "0                                             12.14%  \n",
       "1                                              8.69%  \n",
       "2                                              6.44%  \n",
       "3                                              6.09%  \n",
       "4                                              3.93%  "
      ]
     },
     "execution_count": 80,
     "metadata": {},
     "output_type": "execute_result"
    }
   ],
   "source": [
    "table_df.head()"
   ]
  },
  {
   "cell_type": "code",
   "execution_count": 81,
   "metadata": {},
   "outputs": [],
   "source": [
    "table_df = table_df[['State or territory', 'Population estimate, July 1, 2017[4]']]"
   ]
  },
  {
   "cell_type": "code",
   "execution_count": 82,
   "metadata": {},
   "outputs": [],
   "source": [
    "table_df.rename(columns={'State or territory':'state',\n",
    "                           'Population estimate, July 1, 2017[4]':'pop'}, inplace=True)"
   ]
  },
  {
   "cell_type": "code",
   "execution_count": 83,
   "metadata": {},
   "outputs": [],
   "source": [
    "table_df.set_index('state', inplace=True)"
   ]
  },
  {
   "cell_type": "code",
   "execution_count": 84,
   "metadata": {},
   "outputs": [
    {
     "data": {
      "text/html": [
       "<div>\n",
       "<style scoped>\n",
       "    .dataframe tbody tr th:only-of-type {\n",
       "        vertical-align: middle;\n",
       "    }\n",
       "\n",
       "    .dataframe tbody tr th {\n",
       "        vertical-align: top;\n",
       "    }\n",
       "\n",
       "    .dataframe thead th {\n",
       "        text-align: right;\n",
       "    }\n",
       "</style>\n",
       "<table border=\"1\" class=\"dataframe\">\n",
       "  <thead>\n",
       "    <tr style=\"text-align: right;\">\n",
       "      <th></th>\n",
       "      <th>pop</th>\n",
       "    </tr>\n",
       "    <tr>\n",
       "      <th>state</th>\n",
       "      <th></th>\n",
       "    </tr>\n",
       "  </thead>\n",
       "  <tbody>\n",
       "    <tr>\n",
       "      <th>District of Columbia</th>\n",
       "      <td>693972</td>\n",
       "    </tr>\n",
       "    <tr>\n",
       "      <th>Vermont</th>\n",
       "      <td>623657</td>\n",
       "    </tr>\n",
       "    <tr>\n",
       "      <th>Wyoming</th>\n",
       "      <td>579315</td>\n",
       "    </tr>\n",
       "    <tr>\n",
       "      <th>Guam</th>\n",
       "      <td>165,718[5]</td>\n",
       "    </tr>\n",
       "    <tr>\n",
       "      <th>U.S. Virgin Islands</th>\n",
       "      <td>104,914[7]</td>\n",
       "    </tr>\n",
       "    <tr>\n",
       "      <th>American Samoa</th>\n",
       "      <td>55,641[9]</td>\n",
       "    </tr>\n",
       "    <tr>\n",
       "      <th>Northern Mariana Islands</th>\n",
       "      <td>55,194[11]</td>\n",
       "    </tr>\n",
       "    <tr>\n",
       "      <th>Wake Island</th>\n",
       "      <td>100</td>\n",
       "    </tr>\n",
       "    <tr>\n",
       "      <th>Palmyra Atoll</th>\n",
       "      <td>20</td>\n",
       "    </tr>\n",
       "    <tr>\n",
       "      <th>Midway Atoll</th>\n",
       "      <td>40</td>\n",
       "    </tr>\n",
       "    <tr>\n",
       "      <th>Johnston Atoll</th>\n",
       "      <td>0</td>\n",
       "    </tr>\n",
       "    <tr>\n",
       "      <th>Baker Island</th>\n",
       "      <td>0</td>\n",
       "    </tr>\n",
       "    <tr>\n",
       "      <th>Howland Island</th>\n",
       "      <td>0</td>\n",
       "    </tr>\n",
       "    <tr>\n",
       "      <th>Jarvis Island</th>\n",
       "      <td>0</td>\n",
       "    </tr>\n",
       "    <tr>\n",
       "      <th>Kingman Reef</th>\n",
       "      <td>0</td>\n",
       "    </tr>\n",
       "    <tr>\n",
       "      <th>Navassa Island</th>\n",
       "      <td>0</td>\n",
       "    </tr>\n",
       "    <tr>\n",
       "      <th>Contiguous United States</th>\n",
       "      <td>323551845</td>\n",
       "    </tr>\n",
       "    <tr>\n",
       "      <th>The fifty states</th>\n",
       "      <td>325025206</td>\n",
       "    </tr>\n",
       "    <tr>\n",
       "      <th>Fifty states + D.C.</th>\n",
       "      <td>325719178</td>\n",
       "    </tr>\n",
       "    <tr>\n",
       "      <th>Total U.S. (including D.C. and territories)</th>\n",
       "      <td>329431520</td>\n",
       "    </tr>\n",
       "  </tbody>\n",
       "</table>\n",
       "</div>"
      ],
      "text/plain": [
       "                                                    pop\n",
       "state                                                  \n",
       "District of Columbia                             693972\n",
       "Vermont                                          623657\n",
       "Wyoming                                          579315\n",
       "Guam                                         165,718[5]\n",
       "U.S. Virgin Islands                          104,914[7]\n",
       "American Samoa                                55,641[9]\n",
       "Northern Mariana Islands                     55,194[11]\n",
       "Wake Island                                         100\n",
       "Palmyra Atoll                                        20\n",
       "Midway Atoll                                         40\n",
       "Johnston Atoll                                        0\n",
       "Baker Island                                          0\n",
       "Howland Island                                        0\n",
       "Jarvis Island                                         0\n",
       "Kingman Reef                                          0\n",
       "Navassa Island                                        0\n",
       "Contiguous United States                      323551845\n",
       "The fifty states                              325025206\n",
       "Fifty states + D.C.                           325719178\n",
       "Total U.S. (including D.C. and territories)   329431520"
      ]
     },
     "execution_count": 84,
     "metadata": {},
     "output_type": "execute_result"
    }
   ],
   "source": [
    "table_df.tail(20)"
   ]
  },
  {
   "cell_type": "code",
   "execution_count": 85,
   "metadata": {},
   "outputs": [],
   "source": [
    "table_df.drop(['Guam', 'Puerto Rico', 'U.S. Virgin Islands', 'American Samoa', 'Northern Mariana Islands',\n",
    "              'Wake Island', 'Palmyra Atoll', 'Johnston Atoll', 'Baker Island', 'Howland Island', 'Midway Atoll',\n",
    "              'Palmyra Atoll', 'Jarvis Island', 'Kingman Reef', 'Navassa Island', 'Contiguous United States', \n",
    "              'The fifty states', 'Fifty states + D.C.', 'Total U.S. (including D.C. and territories)'], \n",
    "              inplace=True)"
   ]
  },
  {
   "cell_type": "markdown",
   "metadata": {},
   "source": [
    "## Merging dataframes:"
   ]
  },
  {
   "cell_type": "code",
   "execution_count": 89,
   "metadata": {},
   "outputs": [],
   "source": [
    "gd.set_index('state', inplace=True)"
   ]
  },
  {
   "cell_type": "code",
   "execution_count": 90,
   "metadata": {},
   "outputs": [],
   "source": [
    "states = pd.merge(table_df, gd, left_index=True, right_index=True)"
   ]
  },
  {
   "cell_type": "code",
   "execution_count": 116,
   "metadata": {},
   "outputs": [
    {
     "data": {
      "text/html": [
       "<div>\n",
       "<style scoped>\n",
       "    .dataframe tbody tr th:only-of-type {\n",
       "        vertical-align: middle;\n",
       "    }\n",
       "\n",
       "    .dataframe tbody tr th {\n",
       "        vertical-align: top;\n",
       "    }\n",
       "\n",
       "    .dataframe thead th {\n",
       "        text-align: right;\n",
       "    }\n",
       "</style>\n",
       "<table border=\"1\" class=\"dataframe\">\n",
       "  <thead>\n",
       "    <tr style=\"text-align: right;\">\n",
       "      <th></th>\n",
       "      <th>pop</th>\n",
       "      <th>n_killed</th>\n",
       "      <th>pc_killed</th>\n",
       "    </tr>\n",
       "    <tr>\n",
       "      <th>state</th>\n",
       "      <th></th>\n",
       "      <th></th>\n",
       "      <th></th>\n",
       "    </tr>\n",
       "  </thead>\n",
       "  <tbody>\n",
       "    <tr>\n",
       "      <th>California</th>\n",
       "      <td>39536653</td>\n",
       "      <td>5562</td>\n",
       "      <td>14.067959</td>\n",
       "    </tr>\n",
       "    <tr>\n",
       "      <th>Texas</th>\n",
       "      <td>28304596</td>\n",
       "      <td>5046</td>\n",
       "      <td>17.827493</td>\n",
       "    </tr>\n",
       "    <tr>\n",
       "      <th>Florida</th>\n",
       "      <td>20984400</td>\n",
       "      <td>3909</td>\n",
       "      <td>18.628124</td>\n",
       "    </tr>\n",
       "    <tr>\n",
       "      <th>New York</th>\n",
       "      <td>19849399</td>\n",
       "      <td>1705</td>\n",
       "      <td>8.589681</td>\n",
       "    </tr>\n",
       "    <tr>\n",
       "      <th>Pennsylvania</th>\n",
       "      <td>12805537</td>\n",
       "      <td>2395</td>\n",
       "      <td>18.702847</td>\n",
       "    </tr>\n",
       "  </tbody>\n",
       "</table>\n",
       "</div>"
      ],
      "text/plain": [
       "                   pop  n_killed  pc_killed\n",
       "state                                      \n",
       "California    39536653      5562  14.067959\n",
       "Texas         28304596      5046  17.827493\n",
       "Florida       20984400      3909  18.628124\n",
       "New York      19849399      1705   8.589681\n",
       "Pennsylvania  12805537      2395  18.702847"
      ]
     },
     "execution_count": 116,
     "metadata": {},
     "output_type": "execute_result"
    }
   ],
   "source": [
    "states.head()"
   ]
  },
  {
   "cell_type": "code",
   "execution_count": 92,
   "metadata": {},
   "outputs": [
    {
     "data": {
      "text/plain": [
       "pop         object\n",
       "n_killed     int64\n",
       "dtype: object"
      ]
     },
     "execution_count": 92,
     "metadata": {},
     "output_type": "execute_result"
    }
   ],
   "source": [
    "states.dtypes"
   ]
  },
  {
   "cell_type": "code",
   "execution_count": 93,
   "metadata": {},
   "outputs": [],
   "source": [
    "states['pop'] = states['pop'].astype('int64')"
   ]
  },
  {
   "cell_type": "code",
   "execution_count": 94,
   "metadata": {},
   "outputs": [],
   "source": [
    "states['pc_killed'] = (states.n_killed / states['pop']) * 100000"
   ]
  },
  {
   "cell_type": "code",
   "execution_count": 95,
   "metadata": {},
   "outputs": [
    {
     "data": {
      "text/html": [
       "<div>\n",
       "<style scoped>\n",
       "    .dataframe tbody tr th:only-of-type {\n",
       "        vertical-align: middle;\n",
       "    }\n",
       "\n",
       "    .dataframe tbody tr th {\n",
       "        vertical-align: top;\n",
       "    }\n",
       "\n",
       "    .dataframe thead th {\n",
       "        text-align: right;\n",
       "    }\n",
       "</style>\n",
       "<table border=\"1\" class=\"dataframe\">\n",
       "  <thead>\n",
       "    <tr style=\"text-align: right;\">\n",
       "      <th></th>\n",
       "      <th>pop</th>\n",
       "      <th>n_killed</th>\n",
       "      <th>pc_killed</th>\n",
       "    </tr>\n",
       "    <tr>\n",
       "      <th>state</th>\n",
       "      <th></th>\n",
       "      <th></th>\n",
       "      <th></th>\n",
       "    </tr>\n",
       "  </thead>\n",
       "  <tbody>\n",
       "    <tr>\n",
       "      <th>California</th>\n",
       "      <td>39536653</td>\n",
       "      <td>5562</td>\n",
       "      <td>14.067959</td>\n",
       "    </tr>\n",
       "    <tr>\n",
       "      <th>Texas</th>\n",
       "      <td>28304596</td>\n",
       "      <td>5046</td>\n",
       "      <td>17.827493</td>\n",
       "    </tr>\n",
       "    <tr>\n",
       "      <th>Florida</th>\n",
       "      <td>20984400</td>\n",
       "      <td>3909</td>\n",
       "      <td>18.628124</td>\n",
       "    </tr>\n",
       "    <tr>\n",
       "      <th>New York</th>\n",
       "      <td>19849399</td>\n",
       "      <td>1705</td>\n",
       "      <td>8.589681</td>\n",
       "    </tr>\n",
       "    <tr>\n",
       "      <th>Pennsylvania</th>\n",
       "      <td>12805537</td>\n",
       "      <td>2395</td>\n",
       "      <td>18.702847</td>\n",
       "    </tr>\n",
       "  </tbody>\n",
       "</table>\n",
       "</div>"
      ],
      "text/plain": [
       "                   pop  n_killed  pc_killed\n",
       "state                                      \n",
       "California    39536653      5562  14.067959\n",
       "Texas         28304596      5046  17.827493\n",
       "Florida       20984400      3909  18.628124\n",
       "New York      19849399      1705   8.589681\n",
       "Pennsylvania  12805537      2395  18.702847"
      ]
     },
     "execution_count": 95,
     "metadata": {},
     "output_type": "execute_result"
    }
   ],
   "source": [
    "states.head()"
   ]
  },
  {
   "cell_type": "code",
   "execution_count": 102,
   "metadata": {},
   "outputs": [],
   "source": [
    "states_sorted = states.sort_values('pc_killed', ascending=False)"
   ]
  },
  {
   "cell_type": "markdown",
   "metadata": {},
   "source": [
    "### I'll go ahead and save this dataframe as a csv file so I can use it to create a Tableau plot later:"
   ]
  },
  {
   "cell_type": "code",
   "execution_count": 118,
   "metadata": {},
   "outputs": [],
   "source": [
    "states_sorted.to_csv('../data/states_pc.csv')"
   ]
  },
  {
   "cell_type": "markdown",
   "metadata": {},
   "source": [
    "### I also want to make a barplot to better interpret how the states compare with one another. I'm going to highlight Maryland because I'll be focusing more on it later--Baltimore specifically--and I want to show how looking at per capita rates by states might not be granular enough for our purposes. "
   ]
  },
  {
   "cell_type": "code",
   "execution_count": 117,
   "metadata": {},
   "outputs": [
    {
     "data": {
      "image/png": "[encoded data removed]",
      "text/plain": [
       "<Figure size 1008x864 with 1 Axes>"
      ]
     },
     "metadata": {},
     "output_type": "display_data"
    }
   ],
   "source": [
    "sns.set_style(\"white\")\n",
    "f, ax = plt.figure(figsize=(14,12)), plt.gca()\n",
    "colors = colors = ['crimson' if x=='Maryland' else 'black' for x in states_sorted.index]\n",
    "sns.barplot(x=states_sorted.pc_killed, y=states_sorted.index, data=states_sorted, palette=colors)\n",
    "plt.title(\"Per Capita Gun Deaths by State\", fontsize=25)\n",
    "plt.xlabel(\"Gun Deaths per 100k\", fontsize=20)\n",
    "plt.ylabel('')\n",
    "ax.tick_params(labelsize='x-large')\n",
    "sns.despine(left=True, bottom=True)\n",
    "plt.savefig('../images/states_pc.png');"
   ]
  }
 ],
 "metadata": {
  "kernelspec": {
   "display_name": "Python 3",
   "language": "python",
   "name": "python3"
  },
  "language_info": {
   "codemirror_mode": {
    "name": "ipython",
    "version": 3
   },
   "file_extension": ".py",
   "mimetype": "text/x-python",
   "name": "python",
   "nbconvert_exporter": "python",
   "pygments_lexer": "ipython3",
   "version": "3.6.5"
  }
 },
 "nbformat": 4,
 "nbformat_minor": 2
}
