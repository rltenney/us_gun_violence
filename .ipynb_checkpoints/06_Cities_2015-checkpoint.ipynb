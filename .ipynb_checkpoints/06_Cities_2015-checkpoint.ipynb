{
 "cells": [
  {
   "cell_type": "markdown",
   "metadata": {},
   "source": [
    "## Repeating the same process as the last two notebooks, this time for 2015 data:"
   ]
  },
  {
   "cell_type": "code",
   "execution_count": 1,
   "metadata": {},
   "outputs": [],
   "source": [
    "import pandas as pd\n",
    "import matplotlib.pyplot as plt\n",
    "import seaborn as sns\n",
    "\n",
    "%matplotlib inline"
   ]
  },
  {
   "cell_type": "code",
   "execution_count": 2,
   "metadata": {},
   "outputs": [],
   "source": [
    "df = pd.read_csv('../guns2_clean.csv', index_col = 0)"
   ]
  },
  {
   "cell_type": "code",
   "execution_count": 3,
   "metadata": {},
   "outputs": [],
   "source": [
    "df_2015 = df.loc['2015-01-01':'2015-12-31']"
   ]
  },
  {
   "cell_type": "code",
   "execution_count": 4,
   "metadata": {},
   "outputs": [],
   "source": [
    "pd.options.mode.chained_assignment = None"
   ]
  },
  {
   "cell_type": "code",
   "execution_count": 5,
   "metadata": {},
   "outputs": [],
   "source": [
    "df_2015['city'] = df_2015['city'] + \", \" + df_2015['state']"
   ]
  },
  {
   "cell_type": "code",
   "execution_count": 6,
   "metadata": {},
   "outputs": [],
   "source": [
    "df_2015.drop(['state'], axis=1, inplace=True)"
   ]
  },
  {
   "cell_type": "code",
   "execution_count": 7,
   "metadata": {},
   "outputs": [],
   "source": [
    "cities_2015 = pd.DataFrame(df_2015.groupby(['city']).n_killed.sum().sort_values(ascending=False))"
   ]
  },
  {
   "cell_type": "code",
   "execution_count": 8,
   "metadata": {},
   "outputs": [
    {
     "data": {
      "text/html": [
       "<div>\n",
       "<style scoped>\n",
       "    .dataframe tbody tr th:only-of-type {\n",
       "        vertical-align: middle;\n",
       "    }\n",
       "\n",
       "    .dataframe tbody tr th {\n",
       "        vertical-align: top;\n",
       "    }\n",
       "\n",
       "    .dataframe thead th {\n",
       "        text-align: right;\n",
       "    }\n",
       "</style>\n",
       "<table border=\"1\" class=\"dataframe\">\n",
       "  <thead>\n",
       "    <tr style=\"text-align: right;\">\n",
       "      <th></th>\n",
       "      <th>n_killed</th>\n",
       "    </tr>\n",
       "    <tr>\n",
       "      <th>city</th>\n",
       "      <th></th>\n",
       "    </tr>\n",
       "  </thead>\n",
       "  <tbody>\n",
       "    <tr>\n",
       "      <th>Chicago, Illinois</th>\n",
       "      <td>432</td>\n",
       "    </tr>\n",
       "    <tr>\n",
       "      <th>Houston, Texas</th>\n",
       "      <td>292</td>\n",
       "    </tr>\n",
       "    <tr>\n",
       "      <th>Baltimore, Maryland</th>\n",
       "      <td>264</td>\n",
       "    </tr>\n",
       "    <tr>\n",
       "      <th>New York, New York</th>\n",
       "      <td>261</td>\n",
       "    </tr>\n",
       "    <tr>\n",
       "      <th>Saint Louis, Missouri</th>\n",
       "      <td>203</td>\n",
       "    </tr>\n",
       "  </tbody>\n",
       "</table>\n",
       "</div>"
      ],
      "text/plain": [
       "                       n_killed\n",
       "city                           \n",
       "Chicago, Illinois           432\n",
       "Houston, Texas              292\n",
       "Baltimore, Maryland         264\n",
       "New York, New York          261\n",
       "Saint Louis, Missouri       203"
      ]
     },
     "execution_count": 8,
     "metadata": {},
     "output_type": "execute_result"
    }
   ],
   "source": [
    "cities_2015.head()"
   ]
  },
  {
   "cell_type": "markdown",
   "metadata": {},
   "source": [
    "## Loading in Census Bureau csv:"
   ]
  },
  {
   "cell_type": "code",
   "execution_count": 9,
   "metadata": {},
   "outputs": [],
   "source": [
    "pop = pd.read_csv('./data/city_pops.csv', header=1, index_col='Rank')"
   ]
  },
  {
   "cell_type": "code",
   "execution_count": 10,
   "metadata": {},
   "outputs": [],
   "source": [
    "pop['Geography.2'].replace('city.+', \"\", regex=True, inplace=True)"
   ]
  },
  {
   "cell_type": "code",
   "execution_count": 11,
   "metadata": {},
   "outputs": [],
   "source": [
    "pop['Geography.1'].replace('^(.+?),', \"\", regex=True, inplace=True)"
   ]
  },
  {
   "cell_type": "code",
   "execution_count": 12,
   "metadata": {},
   "outputs": [],
   "source": [
    "pop = pop[['Geography.2', 'Geography.1', 'Population Estimate (as of July 1) - 2015']]"
   ]
  },
  {
   "cell_type": "code",
   "execution_count": 13,
   "metadata": {},
   "outputs": [],
   "source": [
    "pop.rename(columns= {'Geography.2':'city', 'Geography.1':'state', 'Population Estimate (as of July 1) - 2015':'2015_pop' }, inplace=True)"
   ]
  },
  {
   "cell_type": "code",
   "execution_count": 14,
   "metadata": {},
   "outputs": [],
   "source": [
    "pop['city'] = pop['city'].str.strip()"
   ]
  },
  {
   "cell_type": "code",
   "execution_count": 15,
   "metadata": {},
   "outputs": [],
   "source": [
    "pop['state'] = pop['state'].str.strip()"
   ]
  },
  {
   "cell_type": "code",
   "execution_count": 16,
   "metadata": {},
   "outputs": [],
   "source": [
    "pop['city'] = pop['city'] + \", \" + pop['state']"
   ]
  },
  {
   "cell_type": "code",
   "execution_count": 17,
   "metadata": {},
   "outputs": [],
   "source": [
    "pop.set_index(['city'], inplace=True)"
   ]
  },
  {
   "cell_type": "code",
   "execution_count": 18,
   "metadata": {},
   "outputs": [],
   "source": [
    "pop.drop('state', axis= 1, inplace=True)"
   ]
  },
  {
   "cell_type": "code",
   "execution_count": 19,
   "metadata": {},
   "outputs": [
    {
     "data": {
      "text/html": [
       "<div>\n",
       "<style scoped>\n",
       "    .dataframe tbody tr th:only-of-type {\n",
       "        vertical-align: middle;\n",
       "    }\n",
       "\n",
       "    .dataframe tbody tr th {\n",
       "        vertical-align: top;\n",
       "    }\n",
       "\n",
       "    .dataframe thead th {\n",
       "        text-align: right;\n",
       "    }\n",
       "</style>\n",
       "<table border=\"1\" class=\"dataframe\">\n",
       "  <thead>\n",
       "    <tr style=\"text-align: right;\">\n",
       "      <th></th>\n",
       "      <th>2015_pop</th>\n",
       "    </tr>\n",
       "    <tr>\n",
       "      <th>city</th>\n",
       "      <th></th>\n",
       "    </tr>\n",
       "  </thead>\n",
       "  <tbody>\n",
       "    <tr>\n",
       "      <th>New York, New York</th>\n",
       "      <td>8582459</td>\n",
       "    </tr>\n",
       "    <tr>\n",
       "      <th>Los Angeles, California</th>\n",
       "      <td>3953459</td>\n",
       "    </tr>\n",
       "    <tr>\n",
       "      <th>Chicago, Illinois</th>\n",
       "      <td>2725154</td>\n",
       "    </tr>\n",
       "    <tr>\n",
       "      <th>Houston, Texas</th>\n",
       "      <td>2282235</td>\n",
       "    </tr>\n",
       "    <tr>\n",
       "      <th>Phoenix, Arizona</th>\n",
       "      <td>1575039</td>\n",
       "    </tr>\n",
       "  </tbody>\n",
       "</table>\n",
       "</div>"
      ],
      "text/plain": [
       "                         2015_pop\n",
       "city                             \n",
       "New York, New York        8582459\n",
       "Los Angeles, California   3953459\n",
       "Chicago, Illinois         2725154\n",
       "Houston, Texas            2282235\n",
       "Phoenix, Arizona          1575039"
      ]
     },
     "execution_count": 19,
     "metadata": {},
     "output_type": "execute_result"
    }
   ],
   "source": [
    "pop.head()"
   ]
  },
  {
   "cell_type": "markdown",
   "metadata": {},
   "source": [
    "## Merging population and gun death dataframes:"
   ]
  },
  {
   "cell_type": "code",
   "execution_count": 20,
   "metadata": {},
   "outputs": [],
   "source": [
    "cities_2015 = pd.merge(pop, cities_2015, left_index=True, right_index=True)"
   ]
  },
  {
   "cell_type": "code",
   "execution_count": 21,
   "metadata": {},
   "outputs": [],
   "source": [
    "cities_2015['pc_killed'] = (cities_2015.n_killed / cities_2015['2015_pop']) * 100000"
   ]
  },
  {
   "cell_type": "code",
   "execution_count": 22,
   "metadata": {},
   "outputs": [
    {
     "data": {
      "text/html": [
       "<div>\n",
       "<style scoped>\n",
       "    .dataframe tbody tr th:only-of-type {\n",
       "        vertical-align: middle;\n",
       "    }\n",
       "\n",
       "    .dataframe tbody tr th {\n",
       "        vertical-align: top;\n",
       "    }\n",
       "\n",
       "    .dataframe thead th {\n",
       "        text-align: right;\n",
       "    }\n",
       "</style>\n",
       "<table border=\"1\" class=\"dataframe\">\n",
       "  <thead>\n",
       "    <tr style=\"text-align: right;\">\n",
       "      <th></th>\n",
       "      <th>2015_pop</th>\n",
       "      <th>n_killed</th>\n",
       "      <th>pc_killed</th>\n",
       "    </tr>\n",
       "    <tr>\n",
       "      <th>city</th>\n",
       "      <th></th>\n",
       "      <th></th>\n",
       "      <th></th>\n",
       "    </tr>\n",
       "  </thead>\n",
       "  <tbody>\n",
       "    <tr>\n",
       "      <th>Gary, Indiana</th>\n",
       "      <td>77267</td>\n",
       "      <td>45</td>\n",
       "      <td>58.239611</td>\n",
       "    </tr>\n",
       "    <tr>\n",
       "      <th>Flint, Michigan</th>\n",
       "      <td>97738</td>\n",
       "      <td>48</td>\n",
       "      <td>49.110888</td>\n",
       "    </tr>\n",
       "    <tr>\n",
       "      <th>New Orleans, Louisiana</th>\n",
       "      <td>390711</td>\n",
       "      <td>174</td>\n",
       "      <td>44.534195</td>\n",
       "    </tr>\n",
       "    <tr>\n",
       "      <th>Baltimore, Maryland</th>\n",
       "      <td>623031</td>\n",
       "      <td>264</td>\n",
       "      <td>42.373493</td>\n",
       "    </tr>\n",
       "    <tr>\n",
       "      <th>Camden, New Jersey</th>\n",
       "      <td>75826</td>\n",
       "      <td>31</td>\n",
       "      <td>40.883074</td>\n",
       "    </tr>\n",
       "    <tr>\n",
       "      <th>Birmingham, Alabama</th>\n",
       "      <td>211621</td>\n",
       "      <td>82</td>\n",
       "      <td>38.748517</td>\n",
       "    </tr>\n",
       "    <tr>\n",
       "      <th>Wilmington, Delaware</th>\n",
       "      <td>71372</td>\n",
       "      <td>26</td>\n",
       "      <td>36.428852</td>\n",
       "    </tr>\n",
       "    <tr>\n",
       "      <th>Baton Rouge, Louisiana</th>\n",
       "      <td>227864</td>\n",
       "      <td>82</td>\n",
       "      <td>35.986378</td>\n",
       "    </tr>\n",
       "    <tr>\n",
       "      <th>Savannah, Georgia</th>\n",
       "      <td>145652</td>\n",
       "      <td>51</td>\n",
       "      <td>35.014967</td>\n",
       "    </tr>\n",
       "    <tr>\n",
       "      <th>Jackson, Mississippi</th>\n",
       "      <td>170752</td>\n",
       "      <td>47</td>\n",
       "      <td>27.525300</td>\n",
       "    </tr>\n",
       "    <tr>\n",
       "      <th>Cleveland, Ohio</th>\n",
       "      <td>389009</td>\n",
       "      <td>107</td>\n",
       "      <td>27.505790</td>\n",
       "    </tr>\n",
       "    <tr>\n",
       "      <th>Greenville, South Carolina</th>\n",
       "      <td>63384</td>\n",
       "      <td>16</td>\n",
       "      <td>25.242964</td>\n",
       "    </tr>\n",
       "    <tr>\n",
       "      <th>Newark, New Jersey</th>\n",
       "      <td>282854</td>\n",
       "      <td>70</td>\n",
       "      <td>24.747750</td>\n",
       "    </tr>\n",
       "    <tr>\n",
       "      <th>Saginaw, Michigan</th>\n",
       "      <td>49201</td>\n",
       "      <td>12</td>\n",
       "      <td>24.389748</td>\n",
       "    </tr>\n",
       "    <tr>\n",
       "      <th>West Palm Beach, Florida</th>\n",
       "      <td>107021</td>\n",
       "      <td>25</td>\n",
       "      <td>23.359901</td>\n",
       "    </tr>\n",
       "    <tr>\n",
       "      <th>Portsmouth, Virginia</th>\n",
       "      <td>96241</td>\n",
       "      <td>22</td>\n",
       "      <td>22.859280</td>\n",
       "    </tr>\n",
       "    <tr>\n",
       "      <th>North Little Rock, Arkansas</th>\n",
       "      <td>66314</td>\n",
       "      <td>15</td>\n",
       "      <td>22.619658</td>\n",
       "    </tr>\n",
       "    <tr>\n",
       "      <th>Springfield, Ohio</th>\n",
       "      <td>59436</td>\n",
       "      <td>13</td>\n",
       "      <td>21.872266</td>\n",
       "    </tr>\n",
       "    <tr>\n",
       "      <th>Milwaukee, Wisconsin</th>\n",
       "      <td>601012</td>\n",
       "      <td>131</td>\n",
       "      <td>21.796570</td>\n",
       "    </tr>\n",
       "    <tr>\n",
       "      <th>Las Vegas, Nevada</th>\n",
       "      <td>621481</td>\n",
       "      <td>132</td>\n",
       "      <td>21.239587</td>\n",
       "    </tr>\n",
       "  </tbody>\n",
       "</table>\n",
       "</div>"
      ],
      "text/plain": [
       "                             2015_pop  n_killed  pc_killed\n",
       "city                                                      \n",
       "Gary, Indiana                   77267        45  58.239611\n",
       "Flint, Michigan                 97738        48  49.110888\n",
       "New Orleans, Louisiana         390711       174  44.534195\n",
       "Baltimore, Maryland            623031       264  42.373493\n",
       "Camden, New Jersey              75826        31  40.883074\n",
       "Birmingham, Alabama            211621        82  38.748517\n",
       "Wilmington, Delaware            71372        26  36.428852\n",
       "Baton Rouge, Louisiana         227864        82  35.986378\n",
       "Savannah, Georgia              145652        51  35.014967\n",
       "Jackson, Mississippi           170752        47  27.525300\n",
       "Cleveland, Ohio                389009       107  27.505790\n",
       "Greenville, South Carolina      63384        16  25.242964\n",
       "Newark, New Jersey             282854        70  24.747750\n",
       "Saginaw, Michigan               49201        12  24.389748\n",
       "West Palm Beach, Florida       107021        25  23.359901\n",
       "Portsmouth, Virginia            96241        22  22.859280\n",
       "North Little Rock, Arkansas     66314        15  22.619658\n",
       "Springfield, Ohio               59436        13  21.872266\n",
       "Milwaukee, Wisconsin           601012       131  21.796570\n",
       "Las Vegas, Nevada              621481       132  21.239587"
      ]
     },
     "execution_count": 22,
     "metadata": {},
     "output_type": "execute_result"
    }
   ],
   "source": [
    "top_cities_2015 = cities_2015.sort_values('pc_killed', ascending=False).head(20)\n",
    "top_cities_2015"
   ]
  },
  {
   "cell_type": "code",
   "execution_count": 23,
   "metadata": {},
   "outputs": [
    {
     "data": {
      "text/html": [
       "<div>\n",
       "<style scoped>\n",
       "    .dataframe tbody tr th:only-of-type {\n",
       "        vertical-align: middle;\n",
       "    }\n",
       "\n",
       "    .dataframe tbody tr th {\n",
       "        vertical-align: top;\n",
       "    }\n",
       "\n",
       "    .dataframe thead th {\n",
       "        text-align: right;\n",
       "    }\n",
       "</style>\n",
       "<table border=\"1\" class=\"dataframe\">\n",
       "  <thead>\n",
       "    <tr style=\"text-align: right;\">\n",
       "      <th></th>\n",
       "      <th>2015_pop</th>\n",
       "      <th>n_killed</th>\n",
       "      <th>pc_killed</th>\n",
       "      <th>state</th>\n",
       "    </tr>\n",
       "    <tr>\n",
       "      <th>city</th>\n",
       "      <th></th>\n",
       "      <th></th>\n",
       "      <th></th>\n",
       "      <th></th>\n",
       "    </tr>\n",
       "  </thead>\n",
       "  <tbody>\n",
       "    <tr>\n",
       "      <th>Baltimore</th>\n",
       "      <td>623031</td>\n",
       "      <td>264</td>\n",
       "      <td>42.373493</td>\n",
       "      <td>Maryland</td>\n",
       "    </tr>\n",
       "    <tr>\n",
       "      <th>Milwaukee</th>\n",
       "      <td>601012</td>\n",
       "      <td>131</td>\n",
       "      <td>21.796570</td>\n",
       "      <td>Wisconsin</td>\n",
       "    </tr>\n",
       "    <tr>\n",
       "      <th>Las Vegas</th>\n",
       "      <td>621481</td>\n",
       "      <td>132</td>\n",
       "      <td>21.239587</td>\n",
       "      <td>Nevada</td>\n",
       "    </tr>\n",
       "    <tr>\n",
       "      <th>Memphis</th>\n",
       "      <td>654753</td>\n",
       "      <td>124</td>\n",
       "      <td>18.938439</td>\n",
       "      <td>Tennessee</td>\n",
       "    </tr>\n",
       "    <tr>\n",
       "      <th>Detroit</th>\n",
       "      <td>678250</td>\n",
       "      <td>126</td>\n",
       "      <td>18.577221</td>\n",
       "      <td>Michigan</td>\n",
       "    </tr>\n",
       "    <tr>\n",
       "      <th>Washington</th>\n",
       "      <td>672736</td>\n",
       "      <td>122</td>\n",
       "      <td>18.134900</td>\n",
       "      <td>District of Columbia</td>\n",
       "    </tr>\n",
       "    <tr>\n",
       "      <th>Indianapolis</th>\n",
       "      <td>854051</td>\n",
       "      <td>139</td>\n",
       "      <td>16.275375</td>\n",
       "      <td>Indiana</td>\n",
       "    </tr>\n",
       "    <tr>\n",
       "      <th>Chicago</th>\n",
       "      <td>2725154</td>\n",
       "      <td>432</td>\n",
       "      <td>15.852315</td>\n",
       "      <td>Illinois</td>\n",
       "    </tr>\n",
       "    <tr>\n",
       "      <th>Houston</th>\n",
       "      <td>2282235</td>\n",
       "      <td>292</td>\n",
       "      <td>12.794476</td>\n",
       "      <td>Texas</td>\n",
       "    </tr>\n",
       "    <tr>\n",
       "      <th>Philadelphia</th>\n",
       "      <td>1570507</td>\n",
       "      <td>186</td>\n",
       "      <td>11.843309</td>\n",
       "      <td>Pennsylvania</td>\n",
       "    </tr>\n",
       "    <tr>\n",
       "      <th>Columbus</th>\n",
       "      <td>852305</td>\n",
       "      <td>90</td>\n",
       "      <td>10.559600</td>\n",
       "      <td>Ohio</td>\n",
       "    </tr>\n",
       "    <tr>\n",
       "      <th>Jacksonville</th>\n",
       "      <td>866856</td>\n",
       "      <td>88</td>\n",
       "      <td>10.151628</td>\n",
       "      <td>Florida</td>\n",
       "    </tr>\n",
       "    <tr>\n",
       "      <th>Oklahoma City</th>\n",
       "      <td>631149</td>\n",
       "      <td>58</td>\n",
       "      <td>9.189589</td>\n",
       "      <td>Oklahoma</td>\n",
       "    </tr>\n",
       "    <tr>\n",
       "      <th>Albuquerque</th>\n",
       "      <td>556205</td>\n",
       "      <td>49</td>\n",
       "      <td>8.809701</td>\n",
       "      <td>New Mexico</td>\n",
       "    </tr>\n",
       "    <tr>\n",
       "      <th>Charlotte</th>\n",
       "      <td>826710</td>\n",
       "      <td>66</td>\n",
       "      <td>7.983452</td>\n",
       "      <td>North Carolina</td>\n",
       "    </tr>\n",
       "    <tr>\n",
       "      <th>Denver</th>\n",
       "      <td>681618</td>\n",
       "      <td>50</td>\n",
       "      <td>7.335487</td>\n",
       "      <td>Colorado</td>\n",
       "    </tr>\n",
       "    <tr>\n",
       "      <th>Dallas</th>\n",
       "      <td>1299793</td>\n",
       "      <td>91</td>\n",
       "      <td>7.001115</td>\n",
       "      <td>Texas</td>\n",
       "    </tr>\n",
       "    <tr>\n",
       "      <th>Fort Worth</th>\n",
       "      <td>834968</td>\n",
       "      <td>56</td>\n",
       "      <td>6.706844</td>\n",
       "      <td>Texas</td>\n",
       "    </tr>\n",
       "    <tr>\n",
       "      <th>Fresno</th>\n",
       "      <td>519650</td>\n",
       "      <td>34</td>\n",
       "      <td>6.542865</td>\n",
       "      <td>California</td>\n",
       "    </tr>\n",
       "    <tr>\n",
       "      <th>San Antonio</th>\n",
       "      <td>1464147</td>\n",
       "      <td>94</td>\n",
       "      <td>6.420120</td>\n",
       "      <td>Texas</td>\n",
       "    </tr>\n",
       "  </tbody>\n",
       "</table>\n",
       "</div>"
      ],
      "text/plain": [
       "               2015_pop  n_killed  pc_killed                 state\n",
       "city                                                              \n",
       "Baltimore        623031       264  42.373493              Maryland\n",
       "Milwaukee        601012       131  21.796570             Wisconsin\n",
       "Las Vegas        621481       132  21.239587                Nevada\n",
       "Memphis          654753       124  18.938439             Tennessee\n",
       "Detroit          678250       126  18.577221              Michigan\n",
       "Washington       672736       122  18.134900  District of Columbia\n",
       "Indianapolis     854051       139  16.275375               Indiana\n",
       "Chicago         2725154       432  15.852315              Illinois\n",
       "Houston         2282235       292  12.794476                 Texas\n",
       "Philadelphia    1570507       186  11.843309          Pennsylvania\n",
       "Columbus         852305        90  10.559600                  Ohio\n",
       "Jacksonville     866856        88  10.151628               Florida\n",
       "Oklahoma City    631149        58   9.189589              Oklahoma\n",
       "Albuquerque      556205        49   8.809701            New Mexico\n",
       "Charlotte        826710        66   7.983452        North Carolina\n",
       "Denver           681618        50   7.335487              Colorado\n",
       "Dallas          1299793        91   7.001115                 Texas\n",
       "Fort Worth       834968        56   6.706844                 Texas\n",
       "Fresno           519650        34   6.542865            California\n",
       "San Antonio     1464147        94   6.420120                 Texas"
      ]
     },
     "execution_count": 23,
     "metadata": {},
     "output_type": "execute_result"
    }
   ],
   "source": [
    "top_large_cities_2015 = cities_2015[cities_2015['2015_pop']>=500000].sort_values('pc_killed', ascending=False).head(20)\n",
    "top_large_cities_2015.reset_index(inplace=True)\n",
    "top_large_cities_2015['city'], top_large_cities_2015['state'] = top_large_cities_2015.city.str.split(', ', 1).str\n",
    "top_large_cities_2015.set_index('city', inplace=True)\n",
    "top_large_cities_2015.to_csv('./large_cities_2015.csv')\n",
    "top_large_cities_2015"
   ]
  },
  {
   "cell_type": "code",
   "execution_count": 24,
   "metadata": {},
   "outputs": [
    {
     "data": {
      "image/png": "[encoded data removed]",
      "text/plain": [
       "<Figure size 720x576 with 1 Axes>"
      ]
     },
     "metadata": {},
     "output_type": "display_data"
    }
   ],
   "source": [
    "sns.set(style=\"white\")\n",
    "\n",
    "f, ax = plt.subplots(figsize=(10, 8))\n",
    "colors = ['crimson' if x=='Baltimore' else 'black' for x in top_cities_2015.index]\n",
    "sns.barplot(x=top_cities_2015.pc_killed, \n",
    "            y=top_cities_2015.index,\n",
    "            data=top_cities_2015, palette=colors)\n",
    "\n",
    "\n",
    "ax.set_title(\"US Cities by Per Capita Gun Deaths 2015\", fontsize=20)\n",
    "ax.set_xlabel('Gun Deaths per 100k',fontsize=16)\n",
    "ax.set_ylabel(\"\")\n",
    "plt.tick_params(labelsize='large')\n",
    "       \n",
    "sns.despine(left=True, bottom=True)\n",
    "plt.savefig('./images/cities_pc_2015.png')"
   ]
  },
  {
   "cell_type": "code",
   "execution_count": 25,
   "metadata": {},
   "outputs": [
    {
     "data": {
      "image/png": "[encoded data removed]",
      "text/plain": [
       "<Figure size 720x576 with 1 Axes>"
      ]
     },
     "metadata": {},
     "output_type": "display_data"
    }
   ],
   "source": [
    "sns.set(style=\"white\")\n",
    "\n",
    "f, ax = plt.subplots(figsize=(10, 8))\n",
    "colors = ['crimson' if x=='Baltimore' else 'black' for x in top_large_cities_2015.index]\n",
    "sns.barplot(x=top_large_cities_2015.pc_killed, \n",
    "            y=top_large_cities_2015.index,\n",
    "            data=top_large_cities_2015, palette=colors)\n",
    "\n",
    "ax.set_title(\"Large US Cities by Per Capita Gun Deaths 2015\", fontsize=20)\n",
    "ax.set_xlabel('Gun Deaths per 100k',fontsize=16)\n",
    "ax.set_ylabel(\"\")\n",
    "plt.tick_params(labelsize='large')\n",
    "\n",
    "sns.despine(left=True, bottom=True)\n",
    "plt.savefig('./images/large_cities_2015.png')"
   ]
  }
 ],
 "metadata": {
  "kernelspec": {
   "display_name": "Python 3",
   "language": "python",
   "name": "python3"
  },
  "language_info": {
   "codemirror_mode": {
    "name": "ipython",
    "version": 3
   },
   "file_extension": ".py",
   "mimetype": "text/x-python",
   "name": "python",
   "nbconvert_exporter": "python",
   "pygments_lexer": "ipython3",
   "version": "3.6.5"
  }
 },
 "nbformat": 4,
 "nbformat_minor": 2
}
