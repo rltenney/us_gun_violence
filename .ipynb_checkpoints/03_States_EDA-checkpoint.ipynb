{
 "cells": [
  {
   "cell_type": "code",
   "execution_count": 73,
   "metadata": {},
   "outputs": [],
   "source": [
    "import pandas as pd\n",
    "import numpy as np\n",
    "import requests \n",
    "from bs4 import BeautifulSoup as bs\n",
    "import matplotlib.pyplot as plt\n",
    "import seaborn as sns\n",
    "%matplotlib inline"
   ]
  },
  {
   "cell_type": "markdown",
   "metadata": {},
   "source": [
    "### In this notebook, I'm going to use data scraped from Wikipedia to obtain a sense of whether or not there is a correlation between economic disparity and gun violence."
   ]
  },
  {
   "cell_type": "markdown",
   "metadata": {},
   "source": [
    "I relied heavily on this article: https://medium.com/analytics-vidhya/web-scraping-wiki-tables-using-beautifulsoup-and-python-6b9ea26d8722"
   ]
  },
  {
   "cell_type": "markdown",
   "metadata": {},
   "source": [
    "### First, I'm going to read in my 'gun deaths by state' csv file as a Pandas dataframe."
   ]
  },
  {
   "cell_type": "code",
   "execution_count": 74,
   "metadata": {},
   "outputs": [],
   "source": [
    "gd = pd.read_csv('./data/gd_state.csv')"
   ]
  },
  {
   "cell_type": "markdown",
   "metadata": {},
   "source": [
    "### Now I'm going to start scraping Wikipedia for additional information. I'll start with a table of US states by population."
   ]
  },
  {
   "cell_type": "code",
   "execution_count": 75,
   "metadata": {},
   "outputs": [],
   "source": [
    "url = requests.get('https://en.wikipedia.org/wiki/List_of_states_and_territories_of_the_United_States_by_population').text"
   ]
  },
  {
   "cell_type": "code",
   "execution_count": 76,
   "metadata": {},
   "outputs": [],
   "source": [
    "soup = bs(url,'lxml')"
   ]
  },
  {
   "cell_type": "code",
   "execution_count": 77,
   "metadata": {},
   "outputs": [],
   "source": [
    "table = soup.find('table',{'class':'wikitable sortable'})"
   ]
  },
  {
   "cell_type": "code",
   "execution_count": 78,
   "metadata": {},
   "outputs": [],
   "source": [
    "table_df = pd.read_html(str(table),header=0)"
   ]
  },
  {
   "cell_type": "code",
   "execution_count": 79,
   "metadata": {},
   "outputs": [],
   "source": [
    "table_df = table_df[0]"
   ]
  },
  {
   "cell_type": "code",
   "execution_count": 80,
   "metadata": {},
   "outputs": [
    {
     "data": {
      "text/html": [
       "<div>\n",
       "<style scoped>\n",
       "    .dataframe tbody tr th:only-of-type {\n",
       "        vertical-align: middle;\n",
       "    }\n",
       "\n",
       "    .dataframe tbody tr th {\n",
       "        vertical-align: top;\n",
       "    }\n",
       "\n",
       "    .dataframe thead th {\n",
       "        text-align: right;\n",
       "    }\n",
       "</style>\n",
       "<table border=\"1\" class=\"dataframe\">\n",
       "  <thead>\n",
       "    <tr style=\"text-align: right;\">\n",
       "      <th></th>\n",
       "      <th>Rank in the fifty U.S. states, 2017</th>\n",
       "      <th>Rank in all U.S. states and territories, 2010</th>\n",
       "      <th>State or territory</th>\n",
       "      <th>Population estimate, July 1, 2017[4]</th>\n",
       "      <th>Census population, April 1, 2010</th>\n",
       "      <th>Percent increase from 2010-2017[note 1]</th>\n",
       "      <th>Total seats in the U.S. House of Representatives, 2013–2023</th>\n",
       "      <th>Estimated population per electoral vote, 2017[note 2]</th>\n",
       "      <th>Estimated population per House seat, 2017</th>\n",
       "      <th>Census population per House seat, 2010</th>\n",
       "      <th>Percent of the total U.S. population, 2017[note 3]</th>\n",
       "    </tr>\n",
       "  </thead>\n",
       "  <tbody>\n",
       "    <tr>\n",
       "      <th>0</th>\n",
       "      <td>NaN</td>\n",
       "      <td>NaN</td>\n",
       "      <td>California</td>\n",
       "      <td>39536653</td>\n",
       "      <td>37252895</td>\n",
       "      <td>6.13%</td>\n",
       "      <td>NaN</td>\n",
       "      <td>718848</td>\n",
       "      <td>745974</td>\n",
       "      <td>702885</td>\n",
       "      <td>12.14%</td>\n",
       "    </tr>\n",
       "    <tr>\n",
       "      <th>1</th>\n",
       "      <td>NaN</td>\n",
       "      <td>NaN</td>\n",
       "      <td>Texas</td>\n",
       "      <td>28304596</td>\n",
       "      <td>25146105</td>\n",
       "      <td>12.56%</td>\n",
       "      <td>NaN</td>\n",
       "      <td>744858</td>\n",
       "      <td>786238</td>\n",
       "      <td>698503</td>\n",
       "      <td>8.69%</td>\n",
       "    </tr>\n",
       "    <tr>\n",
       "      <th>2</th>\n",
       "      <td>NaN</td>\n",
       "      <td>NaN</td>\n",
       "      <td>Florida</td>\n",
       "      <td>20984400</td>\n",
       "      <td>18804623</td>\n",
       "      <td>11.59%</td>\n",
       "      <td>NaN</td>\n",
       "      <td>734904</td>\n",
       "      <td>777200</td>\n",
       "      <td>696468</td>\n",
       "      <td>6.44%</td>\n",
       "    </tr>\n",
       "    <tr>\n",
       "      <th>3</th>\n",
       "      <td>NaN</td>\n",
       "      <td>NaN</td>\n",
       "      <td>New York</td>\n",
       "      <td>19849399</td>\n",
       "      <td>19378087</td>\n",
       "      <td>2.43%</td>\n",
       "      <td>NaN</td>\n",
       "      <td>684462</td>\n",
       "      <td>735163</td>\n",
       "      <td>717707</td>\n",
       "      <td>6.09%</td>\n",
       "    </tr>\n",
       "    <tr>\n",
       "      <th>4</th>\n",
       "      <td>NaN</td>\n",
       "      <td>NaN</td>\n",
       "      <td>Pennsylvania</td>\n",
       "      <td>12805537</td>\n",
       "      <td>12702887</td>\n",
       "      <td>0.81%</td>\n",
       "      <td>NaN</td>\n",
       "      <td>640277</td>\n",
       "      <td>711419</td>\n",
       "      <td>705715</td>\n",
       "      <td>3.93%</td>\n",
       "    </tr>\n",
       "  </tbody>\n",
       "</table>\n",
       "</div>"
      ],
      "text/plain": [
       "   Rank in the fifty U.S. states, 2017  \\\n",
       "0                                  NaN   \n",
       "1                                  NaN   \n",
       "2                                  NaN   \n",
       "3                                  NaN   \n",
       "4                                  NaN   \n",
       "\n",
       "  Rank in all U.S. states and territories, 2010 State or territory  \\\n",
       "0                                           NaN         California   \n",
       "1                                           NaN              Texas   \n",
       "2                                           NaN            Florida   \n",
       "3                                           NaN           New York   \n",
       "4                                           NaN       Pennsylvania   \n",
       "\n",
       "  Population estimate, July 1, 2017[4] Census population, April 1, 2010  \\\n",
       "0                             39536653                         37252895   \n",
       "1                             28304596                         25146105   \n",
       "2                             20984400                         18804623   \n",
       "3                             19849399                         19378087   \n",
       "4                             12805537                         12702887   \n",
       "\n",
       "  Percent increase from 2010-2017[note 1]  \\\n",
       "0                                   6.13%   \n",
       "1                                  12.56%   \n",
       "2                                  11.59%   \n",
       "3                                   2.43%   \n",
       "4                                   0.81%   \n",
       "\n",
       "  Total seats in the U.S. House of Representatives, 2013–2023  \\\n",
       "0                                                NaN            \n",
       "1                                                NaN            \n",
       "2                                                NaN            \n",
       "3                                                NaN            \n",
       "4                                                NaN            \n",
       "\n",
       "  Estimated population per electoral vote, 2017[note 2]  \\\n",
       "0                                             718848      \n",
       "1                                             744858      \n",
       "2                                             734904      \n",
       "3                                             684462      \n",
       "4                                             640277      \n",
       "\n",
       "  Estimated population per House seat, 2017  \\\n",
       "0                                    745974   \n",
       "1                                    786238   \n",
       "2                                    777200   \n",
       "3                                    735163   \n",
       "4                                    711419   \n",
       "\n",
       "  Census population per House seat, 2010  \\\n",
       "0                                 702885   \n",
       "1                                 698503   \n",
       "2                                 696468   \n",
       "3                                 717707   \n",
       "4                                 705715   \n",
       "\n",
       "  Percent of the total U.S. population, 2017[note 3]  \n",
       "0                                             12.14%  \n",
       "1                                              8.69%  \n",
       "2                                              6.44%  \n",
       "3                                              6.09%  \n",
       "4                                              3.93%  "
      ]
     },
     "execution_count": 80,
     "metadata": {},
     "output_type": "execute_result"
    }
   ],
   "source": [
    "table_df.head()"
   ]
  },
  {
   "cell_type": "code",
   "execution_count": 81,
   "metadata": {},
   "outputs": [],
   "source": [
    "table_df = table_df[['State or territory', 'Population estimate, July 1, 2017[4]']]"
   ]
  },
  {
   "cell_type": "code",
   "execution_count": 82,
   "metadata": {},
   "outputs": [],
   "source": [
    "table_df.rename(columns={'State or territory':'state',\n",
    "                           'Population estimate, July 1, 2017[4]':'pop'}, inplace=True)"
   ]
  },
  {
   "cell_type": "code",
   "execution_count": 83,
   "metadata": {},
   "outputs": [],
   "source": [
    "table_df.set_index('state', inplace=True)"
   ]
  },
  {
   "cell_type": "code",
   "execution_count": 84,
   "metadata": {},
   "outputs": [
    {
     "data": {
      "text/html": [
       "<div>\n",
       "<style scoped>\n",
       "    .dataframe tbody tr th:only-of-type {\n",
       "        vertical-align: middle;\n",
       "    }\n",
       "\n",
       "    .dataframe tbody tr th {\n",
       "        vertical-align: top;\n",
       "    }\n",
       "\n",
       "    .dataframe thead th {\n",
       "        text-align: right;\n",
       "    }\n",
       "</style>\n",
       "<table border=\"1\" class=\"dataframe\">\n",
       "  <thead>\n",
       "    <tr style=\"text-align: right;\">\n",
       "      <th></th>\n",
       "      <th>pop</th>\n",
       "    </tr>\n",
       "    <tr>\n",
       "      <th>state</th>\n",
       "      <th></th>\n",
       "    </tr>\n",
       "  </thead>\n",
       "  <tbody>\n",
       "    <tr>\n",
       "      <th>District of Columbia</th>\n",
       "      <td>693972</td>\n",
       "    </tr>\n",
       "    <tr>\n",
       "      <th>Vermont</th>\n",
       "      <td>623657</td>\n",
       "    </tr>\n",
       "    <tr>\n",
       "      <th>Wyoming</th>\n",
       "      <td>579315</td>\n",
       "    </tr>\n",
       "    <tr>\n",
       "      <th>Guam</th>\n",
       "      <td>165,718[5]</td>\n",
       "    </tr>\n",
       "    <tr>\n",
       "      <th>U.S. Virgin Islands</th>\n",
       "      <td>104,914[7]</td>\n",
       "    </tr>\n",
       "    <tr>\n",
       "      <th>American Samoa</th>\n",
       "      <td>55,641[9]</td>\n",
       "    </tr>\n",
       "    <tr>\n",
       "      <th>Northern Mariana Islands</th>\n",
       "      <td>55,194[11]</td>\n",
       "    </tr>\n",
       "    <tr>\n",
       "      <th>Wake Island</th>\n",
       "      <td>100</td>\n",
       "    </tr>\n",
       "    <tr>\n",
       "      <th>Palmyra Atoll</th>\n",
       "      <td>20</td>\n",
       "    </tr>\n",
       "    <tr>\n",
       "      <th>Midway Atoll</th>\n",
       "      <td>40</td>\n",
       "    </tr>\n",
       "    <tr>\n",
       "      <th>Johnston Atoll</th>\n",
       "      <td>0</td>\n",
       "    </tr>\n",
       "    <tr>\n",
       "      <th>Baker Island</th>\n",
       "      <td>0</td>\n",
       "    </tr>\n",
       "    <tr>\n",
       "      <th>Howland Island</th>\n",
       "      <td>0</td>\n",
       "    </tr>\n",
       "    <tr>\n",
       "      <th>Jarvis Island</th>\n",
       "      <td>0</td>\n",
       "    </tr>\n",
       "    <tr>\n",
       "      <th>Kingman Reef</th>\n",
       "      <td>0</td>\n",
       "    </tr>\n",
       "    <tr>\n",
       "      <th>Navassa Island</th>\n",
       "      <td>0</td>\n",
       "    </tr>\n",
       "    <tr>\n",
       "      <th>Contiguous United States</th>\n",
       "      <td>323551845</td>\n",
       "    </tr>\n",
       "    <tr>\n",
       "      <th>The fifty states</th>\n",
       "      <td>325025206</td>\n",
       "    </tr>\n",
       "    <tr>\n",
       "      <th>Fifty states + D.C.</th>\n",
       "      <td>325719178</td>\n",
       "    </tr>\n",
       "    <tr>\n",
       "      <th>Total U.S. (including D.C. and territories)</th>\n",
       "      <td>329431520</td>\n",
       "    </tr>\n",
       "  </tbody>\n",
       "</table>\n",
       "</div>"
      ],
      "text/plain": [
       "                                                    pop\n",
       "state                                                  \n",
       "District of Columbia                             693972\n",
       "Vermont                                          623657\n",
       "Wyoming                                          579315\n",
       "Guam                                         165,718[5]\n",
       "U.S. Virgin Islands                          104,914[7]\n",
       "American Samoa                                55,641[9]\n",
       "Northern Mariana Islands                     55,194[11]\n",
       "Wake Island                                         100\n",
       "Palmyra Atoll                                        20\n",
       "Midway Atoll                                         40\n",
       "Johnston Atoll                                        0\n",
       "Baker Island                                          0\n",
       "Howland Island                                        0\n",
       "Jarvis Island                                         0\n",
       "Kingman Reef                                          0\n",
       "Navassa Island                                        0\n",
       "Contiguous United States                      323551845\n",
       "The fifty states                              325025206\n",
       "Fifty states + D.C.                           325719178\n",
       "Total U.S. (including D.C. and territories)   329431520"
      ]
     },
     "execution_count": 84,
     "metadata": {},
     "output_type": "execute_result"
    }
   ],
   "source": [
    "table_df.tail(20)"
   ]
  },
  {
   "cell_type": "code",
   "execution_count": 85,
   "metadata": {},
   "outputs": [],
   "source": [
    "table_df.drop(['Guam', 'Puerto Rico', 'U.S. Virgin Islands', 'American Samoa', 'Northern Mariana Islands',\n",
    "              'Wake Island', 'Palmyra Atoll', 'Johnston Atoll', 'Baker Island', 'Howland Island', 'Midway Atoll',\n",
    "              'Palmyra Atoll', 'Jarvis Island', 'Kingman Reef', 'Navassa Island', 'Contiguous United States', \n",
    "              'The fifty states', 'Fifty states + D.C.', 'Total U.S. (including D.C. and territories)'], \n",
    "              inplace=True)"
   ]
  },
  {
   "cell_type": "markdown",
   "metadata": {},
   "source": [
    "## Merging dataframes:"
   ]
  },
  {
   "cell_type": "code",
   "execution_count": 89,
   "metadata": {},
   "outputs": [],
   "source": [
    "gd.set_index('state', inplace=True)"
   ]
  },
  {
   "cell_type": "code",
   "execution_count": 90,
   "metadata": {},
   "outputs": [],
   "source": [
    "states = pd.merge(table_df, gd, left_index=True, right_index=True)"
   ]
  },
  {
   "cell_type": "code",
   "execution_count": 116,
   "metadata": {},
   "outputs": [
    {
     "data": {
      "text/html": [
       "<div>\n",
       "<style scoped>\n",
       "    .dataframe tbody tr th:only-of-type {\n",
       "        vertical-align: middle;\n",
       "    }\n",
       "\n",
       "    .dataframe tbody tr th {\n",
       "        vertical-align: top;\n",
       "    }\n",
       "\n",
       "    .dataframe thead th {\n",
       "        text-align: right;\n",
       "    }\n",
       "</style>\n",
       "<table border=\"1\" class=\"dataframe\">\n",
       "  <thead>\n",
       "    <tr style=\"text-align: right;\">\n",
       "      <th></th>\n",
       "      <th>pop</th>\n",
       "      <th>n_killed</th>\n",
       "      <th>pc_killed</th>\n",
       "    </tr>\n",
       "    <tr>\n",
       "      <th>state</th>\n",
       "      <th></th>\n",
       "      <th></th>\n",
       "      <th></th>\n",
       "    </tr>\n",
       "  </thead>\n",
       "  <tbody>\n",
       "    <tr>\n",
       "      <th>California</th>\n",
       "      <td>39536653</td>\n",
       "      <td>5562</td>\n",
       "      <td>14.067959</td>\n",
       "    </tr>\n",
       "    <tr>\n",
       "      <th>Texas</th>\n",
       "      <td>28304596</td>\n",
       "      <td>5046</td>\n",
       "      <td>17.827493</td>\n",
       "    </tr>\n",
       "    <tr>\n",
       "      <th>Florida</th>\n",
       "      <td>20984400</td>\n",
       "      <td>3909</td>\n",
       "      <td>18.628124</td>\n",
       "    </tr>\n",
       "    <tr>\n",
       "      <th>New York</th>\n",
       "      <td>19849399</td>\n",
       "      <td>1705</td>\n",
       "      <td>8.589681</td>\n",
       "    </tr>\n",
       "    <tr>\n",
       "      <th>Pennsylvania</th>\n",
       "      <td>12805537</td>\n",
       "      <td>2395</td>\n",
       "      <td>18.702847</td>\n",
       "    </tr>\n",
       "  </tbody>\n",
       "</table>\n",
       "</div>"
      ],
      "text/plain": [
       "                   pop  n_killed  pc_killed\n",
       "state                                      \n",
       "California    39536653      5562  14.067959\n",
       "Texas         28304596      5046  17.827493\n",
       "Florida       20984400      3909  18.628124\n",
       "New York      19849399      1705   8.589681\n",
       "Pennsylvania  12805537      2395  18.702847"
      ]
     },
     "execution_count": 116,
     "metadata": {},
     "output_type": "execute_result"
    }
   ],
   "source": [
    "states.head()"
   ]
  },
  {
   "cell_type": "code",
   "execution_count": 92,
   "metadata": {},
   "outputs": [
    {
     "data": {
      "text/plain": [
       "pop         object\n",
       "n_killed     int64\n",
       "dtype: object"
      ]
     },
     "execution_count": 92,
     "metadata": {},
     "output_type": "execute_result"
    }
   ],
   "source": [
    "states.dtypes"
   ]
  },
  {
   "cell_type": "code",
   "execution_count": 93,
   "metadata": {},
   "outputs": [],
   "source": [
    "states['pop'] = states['pop'].astype('int64')"
   ]
  },
  {
   "cell_type": "code",
   "execution_count": 94,
   "metadata": {},
   "outputs": [],
   "source": [
    "states['pc_killed'] = (states.n_killed / states['pop']) * 100000"
   ]
  },
  {
   "cell_type": "code",
   "execution_count": 95,
   "metadata": {},
   "outputs": [
    {
     "data": {
      "text/html": [
       "<div>\n",
       "<style scoped>\n",
       "    .dataframe tbody tr th:only-of-type {\n",
       "        vertical-align: middle;\n",
       "    }\n",
       "\n",
       "    .dataframe tbody tr th {\n",
       "        vertical-align: top;\n",
       "    }\n",
       "\n",
       "    .dataframe thead th {\n",
       "        text-align: right;\n",
       "    }\n",
       "</style>\n",
       "<table border=\"1\" class=\"dataframe\">\n",
       "  <thead>\n",
       "    <tr style=\"text-align: right;\">\n",
       "      <th></th>\n",
       "      <th>pop</th>\n",
       "      <th>n_killed</th>\n",
       "      <th>pc_killed</th>\n",
       "    </tr>\n",
       "    <tr>\n",
       "      <th>state</th>\n",
       "      <th></th>\n",
       "      <th></th>\n",
       "      <th></th>\n",
       "    </tr>\n",
       "  </thead>\n",
       "  <tbody>\n",
       "    <tr>\n",
       "      <th>California</th>\n",
       "      <td>39536653</td>\n",
       "      <td>5562</td>\n",
       "      <td>14.067959</td>\n",
       "    </tr>\n",
       "    <tr>\n",
       "      <th>Texas</th>\n",
       "      <td>28304596</td>\n",
       "      <td>5046</td>\n",
       "      <td>17.827493</td>\n",
       "    </tr>\n",
       "    <tr>\n",
       "      <th>Florida</th>\n",
       "      <td>20984400</td>\n",
       "      <td>3909</td>\n",
       "      <td>18.628124</td>\n",
       "    </tr>\n",
       "    <tr>\n",
       "      <th>New York</th>\n",
       "      <td>19849399</td>\n",
       "      <td>1705</td>\n",
       "      <td>8.589681</td>\n",
       "    </tr>\n",
       "    <tr>\n",
       "      <th>Pennsylvania</th>\n",
       "      <td>12805537</td>\n",
       "      <td>2395</td>\n",
       "      <td>18.702847</td>\n",
       "    </tr>\n",
       "  </tbody>\n",
       "</table>\n",
       "</div>"
      ],
      "text/plain": [
       "                   pop  n_killed  pc_killed\n",
       "state                                      \n",
       "California    39536653      5562  14.067959\n",
       "Texas         28304596      5046  17.827493\n",
       "Florida       20984400      3909  18.628124\n",
       "New York      19849399      1705   8.589681\n",
       "Pennsylvania  12805537      2395  18.702847"
      ]
     },
     "execution_count": 95,
     "metadata": {},
     "output_type": "execute_result"
    }
   ],
   "source": [
    "states.head()"
   ]
  },
  {
   "cell_type": "code",
   "execution_count": 102,
   "metadata": {},
   "outputs": [],
   "source": [
    "states_sorted = states.sort_values('pc_killed', ascending=False)"
   ]
  },
  {
   "cell_type": "markdown",
   "metadata": {},
   "source": [
    "### I'll go ahead and save this dataframe as a csv file so I can use it to create a Tableau plot later:"
   ]
  },
  {
   "cell_type": "code",
   "execution_count": 118,
   "metadata": {},
   "outputs": [],
   "source": [
    "states_sorted.to_csv('./data/states_pc.csv')"
   ]
  },
  {
   "cell_type": "markdown",
   "metadata": {},
   "source": [
    "### I also want to make a barplot to better interpret how the states compare with one another. I'm going to highlight Maryland because I'll be focusing more on it later--Baltimore specifically--and I want to show how looking at per capita rates by states might not be granular enough for our purposes. "
   ]
  },
  {
   "cell_type": "code",
   "execution_count": 117,
   "metadata": {},
   "outputs": [
    {
     "data": {
      "image/png": "[encoded data removed]",
      "text/plain": [
       "<Figure size 1008x864 with 1 Axes>"
      ]
     },
     "metadata": {},
     "output_type": "display_data"
    }
   ],
   "source": [
    "sns.set_style(\"white\")\n",
    "f, ax = plt.figure(figsize=(14,12)), plt.gca()\n",
    "colors = colors = ['crimson' if x=='Maryland' else 'black' for x in states_sorted.index]\n",
    "sns.barplot(x=states_sorted.pc_killed, y=states_sorted.index, data=states_sorted, palette=colors)\n",
    "plt.title(\"Per Capita Gun Deaths by State\", fontsize=25)\n",
    "plt.xlabel(\"Gun Deaths per 100k\", fontsize=20)\n",
    "plt.ylabel('')\n",
    "ax.tick_params(labelsize='x-large')\n",
    "sns.despine(left=True, bottom=True)\n",
    "plt.savefig('./images/states_pc.png');"
   ]
  },
  {
   "cell_type": "markdown",
   "metadata": {},
   "source": [
    "## Seeking a global perspective:"
   ]
  },
  {
   "cell_type": "markdown",
   "metadata": {},
   "source": [
    "### I want to get a sense of how the US compares with other countries around the world in terms of gun violence. To do this, I'll scrape some more tables from Wikipedia, then merge and plot them accordingly."
   ]
  },
  {
   "cell_type": "code",
   "execution_count": 35,
   "metadata": {},
   "outputs": [],
   "source": [
    "url2 = requests.get('https://en.wikipedia.org/wiki/Estimated_number_of_civilian_guns_per_capita_by_country').text\n",
    "\n",
    "soup2 = bs(url2,'lxml')\n",
    "\n",
    "table2 = soup2.find('table',{'class':'wikitable sortable'})\n",
    "\n",
    "table_df2 = pd.read_html(str(table2),header=0)"
   ]
  },
  {
   "cell_type": "code",
   "execution_count": 36,
   "metadata": {},
   "outputs": [],
   "source": [
    "table_df2 = table_df2[0]"
   ]
  },
  {
   "cell_type": "code",
   "execution_count": 37,
   "metadata": {},
   "outputs": [
    {
     "data": {
      "text/html": [
       "<div>\n",
       "<style scoped>\n",
       "    .dataframe tbody tr th:only-of-type {\n",
       "        vertical-align: middle;\n",
       "    }\n",
       "\n",
       "    .dataframe tbody tr th {\n",
       "        vertical-align: top;\n",
       "    }\n",
       "\n",
       "    .dataframe thead th {\n",
       "        text-align: right;\n",
       "    }\n",
       "</style>\n",
       "<table border=\"1\" class=\"dataframe\">\n",
       "  <thead>\n",
       "    <tr style=\"text-align: right;\">\n",
       "      <th></th>\n",
       "      <th>Country</th>\n",
       "      <th>Civilian-heldfirearms per100 population</th>\n",
       "      <th>Notes</th>\n",
       "    </tr>\n",
       "  </thead>\n",
       "  <tbody>\n",
       "    <tr>\n",
       "      <th>0</th>\n",
       "      <td>United States</td>\n",
       "      <td>120.5</td>\n",
       "      <td>[note 1]</td>\n",
       "    </tr>\n",
       "    <tr>\n",
       "      <th>1</th>\n",
       "      <td>Yemen</td>\n",
       "      <td>52.8</td>\n",
       "      <td>NaN</td>\n",
       "    </tr>\n",
       "    <tr>\n",
       "      <th>2</th>\n",
       "      <td>Serbia</td>\n",
       "      <td>39.1</td>\n",
       "      <td>NaN</td>\n",
       "    </tr>\n",
       "    <tr>\n",
       "      <th>3</th>\n",
       "      <td>Montenegro</td>\n",
       "      <td>39.1</td>\n",
       "      <td>NaN</td>\n",
       "    </tr>\n",
       "    <tr>\n",
       "      <th>4</th>\n",
       "      <td>Canada</td>\n",
       "      <td>34.7</td>\n",
       "      <td>NaN</td>\n",
       "    </tr>\n",
       "  </tbody>\n",
       "</table>\n",
       "</div>"
      ],
      "text/plain": [
       "         Country  Civilian-heldfirearms per100 population     Notes\n",
       "0  United States                                    120.5  [note 1]\n",
       "1          Yemen                                     52.8       NaN\n",
       "2         Serbia                                     39.1       NaN\n",
       "3     Montenegro                                     39.1       NaN\n",
       "4         Canada                                     34.7       NaN"
      ]
     },
     "execution_count": 37,
     "metadata": {},
     "output_type": "execute_result"
    }
   ],
   "source": [
    "table_df2.head()"
   ]
  },
  {
   "cell_type": "code",
   "execution_count": 38,
   "metadata": {},
   "outputs": [],
   "source": [
    "table_df2.columns = map(str.lower, table_df2.columns)"
   ]
  },
  {
   "cell_type": "code",
   "execution_count": 39,
   "metadata": {},
   "outputs": [],
   "source": [
    "table_df2.rename(columns={'civilian-heldfirearms per100 population':'guns_per_100_ppl'}, inplace=True)"
   ]
  },
  {
   "cell_type": "code",
   "execution_count": 40,
   "metadata": {},
   "outputs": [],
   "source": [
    "table_df2.set_index(\"country\", inplace=True)"
   ]
  },
  {
   "cell_type": "code",
   "execution_count": 41,
   "metadata": {},
   "outputs": [],
   "source": [
    "table_df2.drop('notes', axis=1, inplace=True)"
   ]
  },
  {
   "cell_type": "code",
   "execution_count": 42,
   "metadata": {},
   "outputs": [
    {
     "data": {
      "image/png": "[encoded data removed]",
      "text/plain": [
       "<Figure size 720x1440 with 1 Axes>"
      ]
     },
     "metadata": {},
     "output_type": "display_data"
    }
   ],
   "source": [
    "f, ax = plt.subplots(figsize=(10, 20))\n",
    "\n",
    "sns.barplot(x=\"guns_per_100_ppl\", y=table_df2.index, data=table_df2,\n",
    "            color=\"crimson\")\n",
    "ylabel=\"\"\n",
    "xlabel=\"Per Capita Gun Ownership by Country\"\n",
    "sns.despine(left=True, bottom=True)"
   ]
  },
  {
   "cell_type": "markdown",
   "metadata": {},
   "source": [
    "### Yikes... this plot is cmpletely unreadable. However, if I drop about 75% of the countries, focusing solely on Western nations and other nations w/ similar gun violence to the US, I think it might be farily informative."
   ]
  },
  {
   "cell_type": "code",
   "execution_count": 43,
   "metadata": {},
   "outputs": [],
   "source": [
    "url3 = requests.get('https://en.wikipedia.org/wiki/List_of_countries_by_firearm-related_death_rate').text\n",
    "soup3 = bs(url3,'lxml')\n",
    "table3 = soup3.find('table',{'class':'wikitable sortable'})\n",
    "table_df3 = pd.read_html(str(table3),header=0)"
   ]
  },
  {
   "cell_type": "code",
   "execution_count": 44,
   "metadata": {},
   "outputs": [],
   "source": [
    "table_df3 = table_df3[0]"
   ]
  },
  {
   "cell_type": "code",
   "execution_count": 45,
   "metadata": {},
   "outputs": [
    {
     "data": {
      "text/html": [
       "<div>\n",
       "<style scoped>\n",
       "    .dataframe tbody tr th:only-of-type {\n",
       "        vertical-align: middle;\n",
       "    }\n",
       "\n",
       "    .dataframe tbody tr th {\n",
       "        vertical-align: top;\n",
       "    }\n",
       "\n",
       "    .dataframe thead th {\n",
       "        text-align: right;\n",
       "    }\n",
       "</style>\n",
       "<table border=\"1\" class=\"dataframe\">\n",
       "  <thead>\n",
       "    <tr style=\"text-align: right;\">\n",
       "      <th></th>\n",
       "      <th>Country</th>\n",
       "      <th>Year</th>\n",
       "      <th>Total</th>\n",
       "      <th>Homicides</th>\n",
       "      <th>Suicides</th>\n",
       "      <th>Unintentional</th>\n",
       "      <th>Undetermined</th>\n",
       "      <th>Guns per 100 inhabitants</th>\n",
       "      <th>Sources and notes</th>\n",
       "    </tr>\n",
       "  </thead>\n",
       "  <tbody>\n",
       "    <tr>\n",
       "      <th>0</th>\n",
       "      <td>Argentina</td>\n",
       "      <td>2014</td>\n",
       "      <td>6.93</td>\n",
       "      <td>3.07</td>\n",
       "      <td>1.20</td>\n",
       "      <td>0.08</td>\n",
       "      <td>2.57</td>\n",
       "      <td>8.8 (2010)</td>\n",
       "      <td>Guns in Argentina[1]</td>\n",
       "    </tr>\n",
       "    <tr>\n",
       "      <th>1</th>\n",
       "      <td>Australia</td>\n",
       "      <td>2016</td>\n",
       "      <td>1.04</td>\n",
       "      <td>0.18</td>\n",
       "      <td>0.8</td>\n",
       "      <td>0.02</td>\n",
       "      <td>0.01</td>\n",
       "      <td>13.70</td>\n",
       "      <td>Guns in Australia[2]</td>\n",
       "    </tr>\n",
       "    <tr>\n",
       "      <th>2</th>\n",
       "      <td>Austria</td>\n",
       "      <td>2014</td>\n",
       "      <td>2.9</td>\n",
       "      <td>0.12</td>\n",
       "      <td>2.69</td>\n",
       "      <td>0.02</td>\n",
       "      <td>0.09</td>\n",
       "      <td>30.4 (2007?)</td>\n",
       "      <td>Guns in Austria[3]</td>\n",
       "    </tr>\n",
       "    <tr>\n",
       "      <th>3</th>\n",
       "      <td>Azerbaijan</td>\n",
       "      <td>2007</td>\n",
       "      <td>0.07</td>\n",
       "      <td>0.27 (2010)</td>\n",
       "      <td>0.01</td>\n",
       "      <td>0.02</td>\n",
       "      <td>?</td>\n",
       "      <td>3.5</td>\n",
       "      <td>Guns in Azerbaijan[4]</td>\n",
       "    </tr>\n",
       "    <tr>\n",
       "      <th>4</th>\n",
       "      <td>Barbados</td>\n",
       "      <td>2011</td>\n",
       "      <td>6.6</td>\n",
       "      <td>3.12 (2013)</td>\n",
       "      <td>?</td>\n",
       "      <td>0.35</td>\n",
       "      <td>4.88</td>\n",
       "      <td>3.5 (2007)</td>\n",
       "      <td>Guns in Barbados[5]</td>\n",
       "    </tr>\n",
       "  </tbody>\n",
       "</table>\n",
       "</div>"
      ],
      "text/plain": [
       "      Country  Year Total    Homicides Suicides Unintentional Undetermined  \\\n",
       "0   Argentina  2014  6.93         3.07     1.20          0.08         2.57   \n",
       "1   Australia  2016  1.04         0.18      0.8          0.02         0.01   \n",
       "2     Austria  2014   2.9         0.12     2.69          0.02         0.09   \n",
       "3  Azerbaijan  2007  0.07  0.27 (2010)     0.01          0.02            ?   \n",
       "4    Barbados  2011   6.6  3.12 (2013)        ?          0.35         4.88   \n",
       "\n",
       "  Guns per 100 inhabitants      Sources and notes  \n",
       "0               8.8 (2010)   Guns in Argentina[1]  \n",
       "1                    13.70   Guns in Australia[2]  \n",
       "2             30.4 (2007?)     Guns in Austria[3]  \n",
       "3                      3.5  Guns in Azerbaijan[4]  \n",
       "4               3.5 (2007)    Guns in Barbados[5]  "
      ]
     },
     "execution_count": 45,
     "metadata": {},
     "output_type": "execute_result"
    }
   ],
   "source": [
    "table_df3.head()"
   ]
  },
  {
   "cell_type": "code",
   "execution_count": 46,
   "metadata": {},
   "outputs": [],
   "source": [
    "table_df3.set_index('Country', inplace=True)"
   ]
  },
  {
   "cell_type": "code",
   "execution_count": 47,
   "metadata": {},
   "outputs": [
    {
     "data": {
      "text/html": [
       "<div>\n",
       "<style scoped>\n",
       "    .dataframe tbody tr th:only-of-type {\n",
       "        vertical-align: middle;\n",
       "    }\n",
       "\n",
       "    .dataframe tbody tr th {\n",
       "        vertical-align: top;\n",
       "    }\n",
       "\n",
       "    .dataframe thead th {\n",
       "        text-align: right;\n",
       "    }\n",
       "</style>\n",
       "<table border=\"1\" class=\"dataframe\">\n",
       "  <thead>\n",
       "    <tr style=\"text-align: right;\">\n",
       "      <th></th>\n",
       "      <th>Year</th>\n",
       "      <th>Total</th>\n",
       "      <th>Homicides</th>\n",
       "      <th>Suicides</th>\n",
       "      <th>Unintentional</th>\n",
       "      <th>Undetermined</th>\n",
       "      <th>Guns per 100 inhabitants</th>\n",
       "      <th>Sources and notes</th>\n",
       "    </tr>\n",
       "    <tr>\n",
       "      <th>Country</th>\n",
       "      <th></th>\n",
       "      <th></th>\n",
       "      <th></th>\n",
       "      <th></th>\n",
       "      <th></th>\n",
       "      <th></th>\n",
       "      <th></th>\n",
       "      <th></th>\n",
       "    </tr>\n",
       "  </thead>\n",
       "  <tbody>\n",
       "    <tr>\n",
       "      <th>Argentina</th>\n",
       "      <td>2014</td>\n",
       "      <td>6.93</td>\n",
       "      <td>3.07</td>\n",
       "      <td>1.20</td>\n",
       "      <td>0.08</td>\n",
       "      <td>2.57</td>\n",
       "      <td>8.8 (2010)</td>\n",
       "      <td>Guns in Argentina[1]</td>\n",
       "    </tr>\n",
       "    <tr>\n",
       "      <th>Australia</th>\n",
       "      <td>2016</td>\n",
       "      <td>1.04</td>\n",
       "      <td>0.18</td>\n",
       "      <td>0.8</td>\n",
       "      <td>0.02</td>\n",
       "      <td>0.01</td>\n",
       "      <td>13.70</td>\n",
       "      <td>Guns in Australia[2]</td>\n",
       "    </tr>\n",
       "    <tr>\n",
       "      <th>Austria</th>\n",
       "      <td>2014</td>\n",
       "      <td>2.9</td>\n",
       "      <td>0.12</td>\n",
       "      <td>2.69</td>\n",
       "      <td>0.02</td>\n",
       "      <td>0.09</td>\n",
       "      <td>30.4 (2007?)</td>\n",
       "      <td>Guns in Austria[3]</td>\n",
       "    </tr>\n",
       "    <tr>\n",
       "      <th>Azerbaijan</th>\n",
       "      <td>2007</td>\n",
       "      <td>0.07</td>\n",
       "      <td>0.27 (2010)</td>\n",
       "      <td>0.01</td>\n",
       "      <td>0.02</td>\n",
       "      <td>?</td>\n",
       "      <td>3.5</td>\n",
       "      <td>Guns in Azerbaijan[4]</td>\n",
       "    </tr>\n",
       "    <tr>\n",
       "      <th>Barbados</th>\n",
       "      <td>2011</td>\n",
       "      <td>6.6</td>\n",
       "      <td>3.12 (2013)</td>\n",
       "      <td>?</td>\n",
       "      <td>0.35</td>\n",
       "      <td>4.88</td>\n",
       "      <td>3.5 (2007)</td>\n",
       "      <td>Guns in Barbados[5]</td>\n",
       "    </tr>\n",
       "  </tbody>\n",
       "</table>\n",
       "</div>"
      ],
      "text/plain": [
       "            Year Total    Homicides Suicides Unintentional Undetermined  \\\n",
       "Country                                                                   \n",
       "Argentina   2014  6.93         3.07     1.20          0.08         2.57   \n",
       "Australia   2016  1.04         0.18      0.8          0.02         0.01   \n",
       "Austria     2014   2.9         0.12     2.69          0.02         0.09   \n",
       "Azerbaijan  2007  0.07  0.27 (2010)     0.01          0.02            ?   \n",
       "Barbados    2011   6.6  3.12 (2013)        ?          0.35         4.88   \n",
       "\n",
       "           Guns per 100 inhabitants      Sources and notes  \n",
       "Country                                                     \n",
       "Argentina                8.8 (2010)   Guns in Argentina[1]  \n",
       "Australia                     13.70   Guns in Australia[2]  \n",
       "Austria                30.4 (2007?)     Guns in Austria[3]  \n",
       "Azerbaijan                      3.5  Guns in Azerbaijan[4]  \n",
       "Barbados                 3.5 (2007)    Guns in Barbados[5]  "
      ]
     },
     "execution_count": 47,
     "metadata": {},
     "output_type": "execute_result"
    }
   ],
   "source": [
    "table_df3.head()"
   ]
  },
  {
   "cell_type": "code",
   "execution_count": 48,
   "metadata": {},
   "outputs": [],
   "source": [
    "table_df3.drop(['Year', 'Sources and notes'], axis=1, inplace=True)"
   ]
  },
  {
   "cell_type": "code",
   "execution_count": 49,
   "metadata": {},
   "outputs": [
    {
     "data": {
      "text/html": [
       "<div>\n",
       "<style scoped>\n",
       "    .dataframe tbody tr th:only-of-type {\n",
       "        vertical-align: middle;\n",
       "    }\n",
       "\n",
       "    .dataframe tbody tr th {\n",
       "        vertical-align: top;\n",
       "    }\n",
       "\n",
       "    .dataframe thead th {\n",
       "        text-align: right;\n",
       "    }\n",
       "</style>\n",
       "<table border=\"1\" class=\"dataframe\">\n",
       "  <thead>\n",
       "    <tr style=\"text-align: right;\">\n",
       "      <th></th>\n",
       "      <th>Total</th>\n",
       "      <th>Homicides</th>\n",
       "      <th>Suicides</th>\n",
       "      <th>Unintentional</th>\n",
       "      <th>Undetermined</th>\n",
       "      <th>Guns per 100 inhabitants</th>\n",
       "    </tr>\n",
       "    <tr>\n",
       "      <th>Country</th>\n",
       "      <th></th>\n",
       "      <th></th>\n",
       "      <th></th>\n",
       "      <th></th>\n",
       "      <th></th>\n",
       "      <th></th>\n",
       "    </tr>\n",
       "  </thead>\n",
       "  <tbody>\n",
       "    <tr>\n",
       "      <th>Argentina</th>\n",
       "      <td>6.93</td>\n",
       "      <td>3.07</td>\n",
       "      <td>1.20</td>\n",
       "      <td>0.08</td>\n",
       "      <td>2.57</td>\n",
       "      <td>8.8 (2010)</td>\n",
       "    </tr>\n",
       "    <tr>\n",
       "      <th>Australia</th>\n",
       "      <td>1.04</td>\n",
       "      <td>0.18</td>\n",
       "      <td>0.8</td>\n",
       "      <td>0.02</td>\n",
       "      <td>0.01</td>\n",
       "      <td>13.70</td>\n",
       "    </tr>\n",
       "    <tr>\n",
       "      <th>Austria</th>\n",
       "      <td>2.9</td>\n",
       "      <td>0.12</td>\n",
       "      <td>2.69</td>\n",
       "      <td>0.02</td>\n",
       "      <td>0.09</td>\n",
       "      <td>30.4 (2007?)</td>\n",
       "    </tr>\n",
       "    <tr>\n",
       "      <th>Azerbaijan</th>\n",
       "      <td>0.07</td>\n",
       "      <td>0.27 (2010)</td>\n",
       "      <td>0.01</td>\n",
       "      <td>0.02</td>\n",
       "      <td>?</td>\n",
       "      <td>3.5</td>\n",
       "    </tr>\n",
       "    <tr>\n",
       "      <th>Barbados</th>\n",
       "      <td>6.6</td>\n",
       "      <td>3.12 (2013)</td>\n",
       "      <td>?</td>\n",
       "      <td>0.35</td>\n",
       "      <td>4.88</td>\n",
       "      <td>3.5 (2007)</td>\n",
       "    </tr>\n",
       "  </tbody>\n",
       "</table>\n",
       "</div>"
      ],
      "text/plain": [
       "           Total    Homicides Suicides Unintentional Undetermined  \\\n",
       "Country                                                             \n",
       "Argentina   6.93         3.07     1.20          0.08         2.57   \n",
       "Australia   1.04         0.18      0.8          0.02         0.01   \n",
       "Austria      2.9         0.12     2.69          0.02         0.09   \n",
       "Azerbaijan  0.07  0.27 (2010)     0.01          0.02            ?   \n",
       "Barbados     6.6  3.12 (2013)        ?          0.35         4.88   \n",
       "\n",
       "           Guns per 100 inhabitants  \n",
       "Country                              \n",
       "Argentina                8.8 (2010)  \n",
       "Australia                     13.70  \n",
       "Austria                30.4 (2007?)  \n",
       "Azerbaijan                      3.5  \n",
       "Barbados                 3.5 (2007)  "
      ]
     },
     "execution_count": 49,
     "metadata": {},
     "output_type": "execute_result"
    }
   ],
   "source": [
    "table_df3.head()"
   ]
  },
  {
   "cell_type": "code",
   "execution_count": 50,
   "metadata": {},
   "outputs": [
    {
     "data": {
      "text/plain": [
       "179"
      ]
     },
     "execution_count": 50,
     "metadata": {},
     "output_type": "execute_result"
    }
   ],
   "source": [
    "len(table_df2)"
   ]
  },
  {
   "cell_type": "code",
   "execution_count": 51,
   "metadata": {},
   "outputs": [],
   "source": [
    "global_gd = pd.merge(table_df2, table_df3, left_index=True, right_index=True)"
   ]
  },
  {
   "cell_type": "code",
   "execution_count": 52,
   "metadata": {},
   "outputs": [
    {
     "data": {
      "text/plain": [
       "72"
      ]
     },
     "execution_count": 52,
     "metadata": {},
     "output_type": "execute_result"
    }
   ],
   "source": [
    "len(global_gd)"
   ]
  },
  {
   "cell_type": "code",
   "execution_count": 53,
   "metadata": {},
   "outputs": [],
   "source": [
    "global_gd.drop(\"Guns per 100 inhabitants\", axis=1, inplace=True)"
   ]
  },
  {
   "cell_type": "code",
   "execution_count": 54,
   "metadata": {},
   "outputs": [],
   "source": [
    "global_gd.columns = map(str.lower, global_gd.columns)"
   ]
  },
  {
   "cell_type": "code",
   "execution_count": 55,
   "metadata": {},
   "outputs": [],
   "source": [
    "import regex as re"
   ]
  },
  {
   "cell_type": "code",
   "execution_count": 56,
   "metadata": {},
   "outputs": [],
   "source": [
    "global_gd.undetermined.fillna('[3]', inplace=True)"
   ]
  },
  {
   "cell_type": "code",
   "execution_count": 57,
   "metadata": {},
   "outputs": [],
   "source": [
    "pat = \"\\\\[.+?\\\\]|\\\\(.+?\\\\)\"\n",
    "re_pat = re.compile(pat)\n",
    "for i in global_gd.index:\n",
    "    global_gd.loc[i,\"homicides\"] = re_pat.sub(\"\", global_gd.loc[i,\"homicides\"])\n",
    "for i in global_gd.index:\n",
    "    global_gd.loc[i,\"suicides\"] = re_pat.sub(\"\", global_gd.loc[i,\"suicides\"])\n",
    "for i in global_gd.index:\n",
    "    global_gd.loc[i,\"unintentional\"] = re_pat.sub(\"\", global_gd.loc[i,\"unintentional\"])\n",
    "for i in global_gd.index:\n",
    "    global_gd.loc[i,\"undetermined\"] = re_pat.sub(\"\", global_gd.loc[i,\"undetermined\"])"
   ]
  },
  {
   "cell_type": "code",
   "execution_count": 58,
   "metadata": {},
   "outputs": [
    {
     "data": {
      "text/plain": [
       "guns_per_100_ppl    float64\n",
       "total                object\n",
       "homicides            object\n",
       "suicides             object\n",
       "unintentional        object\n",
       "undetermined         object\n",
       "dtype: object"
      ]
     },
     "execution_count": 58,
     "metadata": {},
     "output_type": "execute_result"
    }
   ],
   "source": [
    "global_gd.dtypes"
   ]
  },
  {
   "cell_type": "code",
   "execution_count": 59,
   "metadata": {},
   "outputs": [],
   "source": [
    "global_gd.replace('?', '9999' , inplace=True)"
   ]
  },
  {
   "cell_type": "code",
   "execution_count": 60,
   "metadata": {},
   "outputs": [
    {
     "data": {
      "text/html": [
       "<div>\n",
       "<style scoped>\n",
       "    .dataframe tbody tr th:only-of-type {\n",
       "        vertical-align: middle;\n",
       "    }\n",
       "\n",
       "    .dataframe tbody tr th {\n",
       "        vertical-align: top;\n",
       "    }\n",
       "\n",
       "    .dataframe thead th {\n",
       "        text-align: right;\n",
       "    }\n",
       "</style>\n",
       "<table border=\"1\" class=\"dataframe\">\n",
       "  <thead>\n",
       "    <tr style=\"text-align: right;\">\n",
       "      <th></th>\n",
       "      <th>guns_per_100_ppl</th>\n",
       "      <th>total</th>\n",
       "      <th>homicides</th>\n",
       "      <th>suicides</th>\n",
       "      <th>unintentional</th>\n",
       "      <th>undetermined</th>\n",
       "    </tr>\n",
       "  </thead>\n",
       "  <tbody>\n",
       "    <tr>\n",
       "      <th>United States</th>\n",
       "      <td>120.5</td>\n",
       "      <td>11.96</td>\n",
       "      <td>4.62</td>\n",
       "      <td>7.10</td>\n",
       "      <td>0.15</td>\n",
       "      <td>0.09</td>\n",
       "    </tr>\n",
       "    <tr>\n",
       "      <th>Serbia</th>\n",
       "      <td>39.1</td>\n",
       "      <td>3.49</td>\n",
       "      <td>0.61</td>\n",
       "      <td>2.49</td>\n",
       "      <td>0.14</td>\n",
       "      <td>0.29</td>\n",
       "    </tr>\n",
       "    <tr>\n",
       "      <th>Montenegro</th>\n",
       "      <td>39.1</td>\n",
       "      <td>8.91</td>\n",
       "      <td>2.42</td>\n",
       "      <td>6.49</td>\n",
       "      <td>9999</td>\n",
       "      <td>9999</td>\n",
       "    </tr>\n",
       "    <tr>\n",
       "      <th>Canada</th>\n",
       "      <td>34.7</td>\n",
       "      <td>2.05</td>\n",
       "      <td>0.61</td>\n",
       "      <td>1.52</td>\n",
       "      <td>0.05</td>\n",
       "      <td>0.02</td>\n",
       "    </tr>\n",
       "    <tr>\n",
       "      <th>Uruguay</th>\n",
       "      <td>34.7</td>\n",
       "      <td>11.52</td>\n",
       "      <td>4.78</td>\n",
       "      <td>4.68</td>\n",
       "      <td>2.00</td>\n",
       "      <td>0.06</td>\n",
       "    </tr>\n",
       "  </tbody>\n",
       "</table>\n",
       "</div>"
      ],
      "text/plain": [
       "               guns_per_100_ppl  total homicides suicides unintentional  \\\n",
       "United States             120.5  11.96      4.62     7.10          0.15   \n",
       "Serbia                     39.1   3.49      0.61     2.49          0.14   \n",
       "Montenegro                 39.1   8.91     2.42     6.49           9999   \n",
       "Canada                     34.7   2.05     0.61      1.52          0.05   \n",
       "Uruguay                    34.7  11.52     4.78     4.68          2.00    \n",
       "\n",
       "              undetermined  \n",
       "United States         0.09  \n",
       "Serbia                0.29  \n",
       "Montenegro            9999  \n",
       "Canada                0.02  \n",
       "Uruguay              0.06   "
      ]
     },
     "execution_count": 60,
     "metadata": {},
     "output_type": "execute_result"
    }
   ],
   "source": [
    "global_gd.head()"
   ]
  },
  {
   "cell_type": "code",
   "execution_count": 61,
   "metadata": {},
   "outputs": [
    {
     "data": {
      "text/plain": [
       "guns_per_100_ppl    0\n",
       "total               0\n",
       "homicides           0\n",
       "suicides            0\n",
       "unintentional       0\n",
       "undetermined        0\n",
       "dtype: int64"
      ]
     },
     "execution_count": 61,
     "metadata": {},
     "output_type": "execute_result"
    }
   ],
   "source": [
    "global_gd.isnull().sum()"
   ]
  },
  {
   "cell_type": "code",
   "execution_count": 62,
   "metadata": {},
   "outputs": [
    {
     "data": {
      "text/html": [
       "<div>\n",
       "<style scoped>\n",
       "    .dataframe tbody tr th:only-of-type {\n",
       "        vertical-align: middle;\n",
       "    }\n",
       "\n",
       "    .dataframe tbody tr th {\n",
       "        vertical-align: top;\n",
       "    }\n",
       "\n",
       "    .dataframe thead th {\n",
       "        text-align: right;\n",
       "    }\n",
       "</style>\n",
       "<table border=\"1\" class=\"dataframe\">\n",
       "  <thead>\n",
       "    <tr style=\"text-align: right;\">\n",
       "      <th></th>\n",
       "      <th>guns_per_100_ppl</th>\n",
       "      <th>total</th>\n",
       "      <th>homicides</th>\n",
       "      <th>suicides</th>\n",
       "      <th>unintentional</th>\n",
       "      <th>undetermined</th>\n",
       "    </tr>\n",
       "  </thead>\n",
       "  <tbody>\n",
       "    <tr>\n",
       "      <th>Montenegro</th>\n",
       "      <td>39.1</td>\n",
       "      <td>8.91</td>\n",
       "      <td>2.42</td>\n",
       "      <td>6.49</td>\n",
       "      <td>9999</td>\n",
       "      <td>9999</td>\n",
       "    </tr>\n",
       "    <tr>\n",
       "      <th>Iceland</th>\n",
       "      <td>31.7</td>\n",
       "      <td>0.07</td>\n",
       "      <td>0.00</td>\n",
       "      <td>1.25</td>\n",
       "      <td>9999</td>\n",
       "      <td>9999</td>\n",
       "    </tr>\n",
       "    <tr>\n",
       "      <th>Qatar</th>\n",
       "      <td>16.7</td>\n",
       "      <td>0.15</td>\n",
       "      <td>0.15</td>\n",
       "      <td>9999</td>\n",
       "      <td>9999</td>\n",
       "      <td>9999</td>\n",
       "    </tr>\n",
       "    <tr>\n",
       "      <th>Honduras</th>\n",
       "      <td>14.1</td>\n",
       "      <td>60.00 (2015)</td>\n",
       "      <td>66.64</td>\n",
       "      <td>0.41</td>\n",
       "      <td>0.13</td>\n",
       "      <td>9999</td>\n",
       "    </tr>\n",
       "    <tr>\n",
       "      <th>Ukraine</th>\n",
       "      <td>9.9</td>\n",
       "      <td>1.36</td>\n",
       "      <td>1.36</td>\n",
       "      <td>9999</td>\n",
       "      <td>9999</td>\n",
       "      <td></td>\n",
       "    </tr>\n",
       "    <tr>\n",
       "      <th>Jamaica</th>\n",
       "      <td>8.8</td>\n",
       "      <td>30.72</td>\n",
       "      <td>30.38</td>\n",
       "      <td>0.34</td>\n",
       "      <td>9999</td>\n",
       "      <td>9999</td>\n",
       "    </tr>\n",
       "    <tr>\n",
       "      <th>Belarus</th>\n",
       "      <td>6.1</td>\n",
       "      <td>9999</td>\n",
       "      <td>0.14</td>\n",
       "      <td>9999</td>\n",
       "      <td>9999</td>\n",
       "      <td>9999</td>\n",
       "    </tr>\n",
       "    <tr>\n",
       "      <th>India</th>\n",
       "      <td>5.3</td>\n",
       "      <td>0.28</td>\n",
       "      <td>0.30</td>\n",
       "      <td>0.14</td>\n",
       "      <td>0.04</td>\n",
       "      <td>9999</td>\n",
       "    </tr>\n",
       "    <tr>\n",
       "      <th>Swaziland</th>\n",
       "      <td>4.8</td>\n",
       "      <td>37.16</td>\n",
       "      <td>37.16</td>\n",
       "      <td>9999</td>\n",
       "      <td>9999</td>\n",
       "      <td>9999</td>\n",
       "    </tr>\n",
       "    <tr>\n",
       "      <th>Philippines</th>\n",
       "      <td>3.6</td>\n",
       "      <td>8.90</td>\n",
       "      <td>8.90</td>\n",
       "      <td>9999</td>\n",
       "      <td>9999</td>\n",
       "      <td>9999</td>\n",
       "    </tr>\n",
       "    <tr>\n",
       "      <th>Azerbaijan</th>\n",
       "      <td>3.6</td>\n",
       "      <td>0.07</td>\n",
       "      <td>0.27</td>\n",
       "      <td>0.01</td>\n",
       "      <td>0.02</td>\n",
       "      <td>9999</td>\n",
       "    </tr>\n",
       "    <tr>\n",
       "      <th>Barbados</th>\n",
       "      <td>3.5</td>\n",
       "      <td>6.6</td>\n",
       "      <td>3.12</td>\n",
       "      <td>9999</td>\n",
       "      <td>0.35</td>\n",
       "      <td>4.88</td>\n",
       "    </tr>\n",
       "    <tr>\n",
       "      <th>Bolivia</th>\n",
       "      <td>2.0</td>\n",
       "      <td>9999</td>\n",
       "      <td>0.74</td>\n",
       "      <td>9999</td>\n",
       "      <td>9999</td>\n",
       "      <td>9999</td>\n",
       "    </tr>\n",
       "  </tbody>\n",
       "</table>\n",
       "</div>"
      ],
      "text/plain": [
       "             guns_per_100_ppl         total homicides suicides unintentional  \\\n",
       "Montenegro               39.1          8.91     2.42     6.49           9999   \n",
       "Iceland                  31.7          0.07     0.00     1.25           9999   \n",
       "Qatar                    16.7          0.15     0.15      9999          9999   \n",
       "Honduras                 14.1  60.00 (2015)    66.64     0.41          0.13    \n",
       "Ukraine                   9.9          1.36     1.36      9999          9999   \n",
       "Jamaica                   8.8         30.72    30.38     0.34           9999   \n",
       "Belarus                   6.1          9999     0.14      9999          9999   \n",
       "India                     5.3          0.28     0.30     0.14          0.04    \n",
       "Swaziland                 4.8         37.16    37.16      9999          9999   \n",
       "Philippines               3.6          8.90     8.90      9999          9999   \n",
       "Azerbaijan                3.6          0.07     0.27      0.01          0.02   \n",
       "Barbados                  3.5           6.6     3.12      9999          0.35   \n",
       "Bolivia                   2.0          9999     0.74      9999          9999   \n",
       "\n",
       "            undetermined  \n",
       "Montenegro          9999  \n",
       "Iceland             9999  \n",
       "Qatar               9999  \n",
       "Honduras            9999  \n",
       "Ukraine                   \n",
       "Jamaica             9999  \n",
       "Belarus             9999  \n",
       "India               9999  \n",
       "Swaziland           9999  \n",
       "Philippines         9999  \n",
       "Azerbaijan          9999  \n",
       "Barbados            4.88  \n",
       "Bolivia             9999  "
      ]
     },
     "execution_count": 62,
     "metadata": {},
     "output_type": "execute_result"
    }
   ],
   "source": [
    "global_gd[global_gd.values=='9999'].drop_duplicates()"
   ]
  },
  {
   "cell_type": "code",
   "execution_count": 63,
   "metadata": {},
   "outputs": [],
   "source": [
    "global_gd.loc['Honduras','total'] = '60.00'"
   ]
  },
  {
   "cell_type": "code",
   "execution_count": 64,
   "metadata": {},
   "outputs": [],
   "source": [
    "global_gd.drop('undetermined', axis=1, inplace=True)"
   ]
  },
  {
   "cell_type": "code",
   "execution_count": 65,
   "metadata": {},
   "outputs": [
    {
     "data": {
      "text/html": [
       "<div>\n",
       "<style scoped>\n",
       "    .dataframe tbody tr th:only-of-type {\n",
       "        vertical-align: middle;\n",
       "    }\n",
       "\n",
       "    .dataframe tbody tr th {\n",
       "        vertical-align: top;\n",
       "    }\n",
       "\n",
       "    .dataframe thead th {\n",
       "        text-align: right;\n",
       "    }\n",
       "</style>\n",
       "<table border=\"1\" class=\"dataframe\">\n",
       "  <thead>\n",
       "    <tr style=\"text-align: right;\">\n",
       "      <th></th>\n",
       "      <th>guns_per_100_ppl</th>\n",
       "      <th>total</th>\n",
       "      <th>homicides</th>\n",
       "      <th>suicides</th>\n",
       "      <th>unintentional</th>\n",
       "    </tr>\n",
       "  </thead>\n",
       "  <tbody>\n",
       "    <tr>\n",
       "      <th>Montenegro</th>\n",
       "      <td>39.1</td>\n",
       "      <td>8.91</td>\n",
       "      <td>2.42</td>\n",
       "      <td>6.49</td>\n",
       "      <td>9999</td>\n",
       "    </tr>\n",
       "    <tr>\n",
       "      <th>Iceland</th>\n",
       "      <td>31.7</td>\n",
       "      <td>0.07</td>\n",
       "      <td>0.00</td>\n",
       "      <td>1.25</td>\n",
       "      <td>9999</td>\n",
       "    </tr>\n",
       "    <tr>\n",
       "      <th>Qatar</th>\n",
       "      <td>16.7</td>\n",
       "      <td>0.15</td>\n",
       "      <td>0.15</td>\n",
       "      <td>9999</td>\n",
       "      <td>9999</td>\n",
       "    </tr>\n",
       "    <tr>\n",
       "      <th>Ukraine</th>\n",
       "      <td>9.9</td>\n",
       "      <td>1.36</td>\n",
       "      <td>1.36</td>\n",
       "      <td>9999</td>\n",
       "      <td>9999</td>\n",
       "    </tr>\n",
       "    <tr>\n",
       "      <th>Jamaica</th>\n",
       "      <td>8.8</td>\n",
       "      <td>30.72</td>\n",
       "      <td>30.38</td>\n",
       "      <td>0.34</td>\n",
       "      <td>9999</td>\n",
       "    </tr>\n",
       "    <tr>\n",
       "      <th>Belarus</th>\n",
       "      <td>6.1</td>\n",
       "      <td>9999</td>\n",
       "      <td>0.14</td>\n",
       "      <td>9999</td>\n",
       "      <td>9999</td>\n",
       "    </tr>\n",
       "    <tr>\n",
       "      <th>Swaziland</th>\n",
       "      <td>4.8</td>\n",
       "      <td>37.16</td>\n",
       "      <td>37.16</td>\n",
       "      <td>9999</td>\n",
       "      <td>9999</td>\n",
       "    </tr>\n",
       "    <tr>\n",
       "      <th>Philippines</th>\n",
       "      <td>3.6</td>\n",
       "      <td>8.90</td>\n",
       "      <td>8.90</td>\n",
       "      <td>9999</td>\n",
       "      <td>9999</td>\n",
       "    </tr>\n",
       "    <tr>\n",
       "      <th>Barbados</th>\n",
       "      <td>3.5</td>\n",
       "      <td>6.6</td>\n",
       "      <td>3.12</td>\n",
       "      <td>9999</td>\n",
       "      <td>0.35</td>\n",
       "    </tr>\n",
       "    <tr>\n",
       "      <th>Bolivia</th>\n",
       "      <td>2.0</td>\n",
       "      <td>9999</td>\n",
       "      <td>0.74</td>\n",
       "      <td>9999</td>\n",
       "      <td>9999</td>\n",
       "    </tr>\n",
       "  </tbody>\n",
       "</table>\n",
       "</div>"
      ],
      "text/plain": [
       "             guns_per_100_ppl  total homicides suicides unintentional\n",
       "Montenegro               39.1   8.91     2.42     6.49           9999\n",
       "Iceland                  31.7   0.07     0.00     1.25           9999\n",
       "Qatar                    16.7   0.15     0.15      9999          9999\n",
       "Ukraine                   9.9   1.36     1.36      9999          9999\n",
       "Jamaica                   8.8  30.72    30.38     0.34           9999\n",
       "Belarus                   6.1   9999     0.14      9999          9999\n",
       "Swaziland                 4.8  37.16    37.16      9999          9999\n",
       "Philippines               3.6   8.90     8.90      9999          9999\n",
       "Barbados                  3.5    6.6     3.12      9999          0.35\n",
       "Bolivia                   2.0   9999     0.74      9999          9999"
      ]
     },
     "execution_count": 65,
     "metadata": {},
     "output_type": "execute_result"
    }
   ],
   "source": [
    "global_gd[global_gd.values=='9999'].drop_duplicates()"
   ]
  },
  {
   "cell_type": "code",
   "execution_count": 66,
   "metadata": {},
   "outputs": [],
   "source": [
    "global_gd.drop(\"unintentional\", axis=1, inplace=True)"
   ]
  },
  {
   "cell_type": "code",
   "execution_count": 67,
   "metadata": {},
   "outputs": [
    {
     "data": {
      "text/html": [
       "<div>\n",
       "<style scoped>\n",
       "    .dataframe tbody tr th:only-of-type {\n",
       "        vertical-align: middle;\n",
       "    }\n",
       "\n",
       "    .dataframe tbody tr th {\n",
       "        vertical-align: top;\n",
       "    }\n",
       "\n",
       "    .dataframe thead th {\n",
       "        text-align: right;\n",
       "    }\n",
       "</style>\n",
       "<table border=\"1\" class=\"dataframe\">\n",
       "  <thead>\n",
       "    <tr style=\"text-align: right;\">\n",
       "      <th></th>\n",
       "      <th>guns_per_100_ppl</th>\n",
       "      <th>total</th>\n",
       "      <th>homicides</th>\n",
       "      <th>suicides</th>\n",
       "    </tr>\n",
       "  </thead>\n",
       "  <tbody>\n",
       "    <tr>\n",
       "      <th>Qatar</th>\n",
       "      <td>16.7</td>\n",
       "      <td>0.15</td>\n",
       "      <td>0.15</td>\n",
       "      <td>9999</td>\n",
       "    </tr>\n",
       "    <tr>\n",
       "      <th>Ukraine</th>\n",
       "      <td>9.9</td>\n",
       "      <td>1.36</td>\n",
       "      <td>1.36</td>\n",
       "      <td>9999</td>\n",
       "    </tr>\n",
       "    <tr>\n",
       "      <th>Belarus</th>\n",
       "      <td>6.1</td>\n",
       "      <td>9999</td>\n",
       "      <td>0.14</td>\n",
       "      <td>9999</td>\n",
       "    </tr>\n",
       "    <tr>\n",
       "      <th>Swaziland</th>\n",
       "      <td>4.8</td>\n",
       "      <td>37.16</td>\n",
       "      <td>37.16</td>\n",
       "      <td>9999</td>\n",
       "    </tr>\n",
       "    <tr>\n",
       "      <th>Philippines</th>\n",
       "      <td>3.6</td>\n",
       "      <td>8.90</td>\n",
       "      <td>8.90</td>\n",
       "      <td>9999</td>\n",
       "    </tr>\n",
       "    <tr>\n",
       "      <th>Barbados</th>\n",
       "      <td>3.5</td>\n",
       "      <td>6.6</td>\n",
       "      <td>3.12</td>\n",
       "      <td>9999</td>\n",
       "    </tr>\n",
       "    <tr>\n",
       "      <th>Bolivia</th>\n",
       "      <td>2.0</td>\n",
       "      <td>9999</td>\n",
       "      <td>0.74</td>\n",
       "      <td>9999</td>\n",
       "    </tr>\n",
       "  </tbody>\n",
       "</table>\n",
       "</div>"
      ],
      "text/plain": [
       "             guns_per_100_ppl  total homicides suicides\n",
       "Qatar                    16.7   0.15     0.15      9999\n",
       "Ukraine                   9.9   1.36     1.36      9999\n",
       "Belarus                   6.1   9999     0.14      9999\n",
       "Swaziland                 4.8  37.16    37.16      9999\n",
       "Philippines               3.6   8.90     8.90      9999\n",
       "Barbados                  3.5    6.6     3.12      9999\n",
       "Bolivia                   2.0   9999     0.74      9999"
      ]
     },
     "execution_count": 67,
     "metadata": {},
     "output_type": "execute_result"
    }
   ],
   "source": [
    "global_gd[global_gd.values=='9999'].drop_duplicates()"
   ]
  },
  {
   "cell_type": "code",
   "execution_count": 68,
   "metadata": {},
   "outputs": [],
   "source": [
    "global_gd.drop(['Qatar', 'Ukraine', 'Belarus', 'Swaziland', 'Philippines', 'Barbados', 'Bolivia'], axis=0, inplace=True)"
   ]
  },
  {
   "cell_type": "code",
   "execution_count": 69,
   "metadata": {},
   "outputs": [],
   "source": [
    "global_gd = global_gd.apply(pd.to_numeric, errors='coerce')"
   ]
  },
  {
   "cell_type": "markdown",
   "metadata": {},
   "source": [
    "### I need to do some data cleaning... namely, I should remove one of the 'guns per capita' columns. However, they contain different values, so I first need to figure out which set of numbers is more accurate. I also need to drop countries that are immaterial to the scope of my problem statement as well as those that contain a great deal of missing values."
   ]
  },
  {
   "cell_type": "code",
   "execution_count": 70,
   "metadata": {},
   "outputs": [
    {
     "data": {
      "text/html": [
       "<div>\n",
       "<style scoped>\n",
       "    .dataframe tbody tr th:only-of-type {\n",
       "        vertical-align: middle;\n",
       "    }\n",
       "\n",
       "    .dataframe tbody tr th {\n",
       "        vertical-align: top;\n",
       "    }\n",
       "\n",
       "    .dataframe thead th {\n",
       "        text-align: right;\n",
       "    }\n",
       "</style>\n",
       "<table border=\"1\" class=\"dataframe\">\n",
       "  <thead>\n",
       "    <tr style=\"text-align: right;\">\n",
       "      <th></th>\n",
       "      <th>guns_per_100_ppl</th>\n",
       "      <th>total</th>\n",
       "      <th>homicides</th>\n",
       "      <th>suicides</th>\n",
       "    </tr>\n",
       "  </thead>\n",
       "  <tbody>\n",
       "    <tr>\n",
       "      <th>Honduras</th>\n",
       "      <td>14.1</td>\n",
       "      <td>60.00</td>\n",
       "      <td>66.64</td>\n",
       "      <td>0.41</td>\n",
       "    </tr>\n",
       "    <tr>\n",
       "      <th>Venezuela</th>\n",
       "      <td>18.5</td>\n",
       "      <td>59.13</td>\n",
       "      <td>39.00</td>\n",
       "      <td>0.48</td>\n",
       "    </tr>\n",
       "    <tr>\n",
       "      <th>El Salvador</th>\n",
       "      <td>12.0</td>\n",
       "      <td>45.60</td>\n",
       "      <td>26.49</td>\n",
       "      <td>0.13</td>\n",
       "    </tr>\n",
       "    <tr>\n",
       "      <th>Guatemala</th>\n",
       "      <td>12.1</td>\n",
       "      <td>34.10</td>\n",
       "      <td>29.62</td>\n",
       "      <td>0.34</td>\n",
       "    </tr>\n",
       "    <tr>\n",
       "      <th>Jamaica</th>\n",
       "      <td>8.8</td>\n",
       "      <td>30.72</td>\n",
       "      <td>30.38</td>\n",
       "      <td>0.34</td>\n",
       "    </tr>\n",
       "  </tbody>\n",
       "</table>\n",
       "</div>"
      ],
      "text/plain": [
       "             guns_per_100_ppl  total  homicides  suicides\n",
       "Honduras                 14.1  60.00      66.64      0.41\n",
       "Venezuela                18.5  59.13      39.00      0.48\n",
       "El Salvador              12.0  45.60      26.49      0.13\n",
       "Guatemala                12.1  34.10      29.62      0.34\n",
       "Jamaica                   8.8  30.72      30.38      0.34"
      ]
     },
     "execution_count": 70,
     "metadata": {},
     "output_type": "execute_result"
    }
   ],
   "source": [
    "global_gd.sort_values('total', ascending=False).head()"
   ]
  },
  {
   "cell_type": "code",
   "execution_count": 71,
   "metadata": {},
   "outputs": [
    {
     "data": {
      "image/png": "[encoded data removed]",
      "text/plain": [
       "<Figure size 720x1440 with 1 Axes>"
      ]
     },
     "metadata": {},
     "output_type": "display_data"
    }
   ],
   "source": [
    "f, ax = plt.subplots(figsize=(10, 20))\n",
    "\n",
    "sns.barplot(x=\"total\", \n",
    "            y=global_gd.sort_values('total', ascending=False).index, \n",
    "            data=global_gd.sort_values('total', ascending=False),                                                                                  \n",
    "            color=\"grey\")\n",
    "sns.barplot(x=\"homicides\", \n",
    "            y=global_gd.sort_values('total', ascending=False).index, \n",
    "            data=global_gd.sort_values('homicides', ascending=False),                                                                                  \n",
    "            color=\"crimson\")\n",
    "sns.barplot(x=\"suicides\", \n",
    "            y=global_gd.sort_values('total', ascending=False).index, \n",
    "            data=global_gd.sort_values('suicides', ascending=False),                                                                                  \n",
    "            color=\"blue\")\n",
    "ylabel=\"\"\n",
    "xlabel=\"Per Capita Gun Deaths Globally\"\n",
    "sns.despine(left=True, bottom=True)"
   ]
  },
  {
   "cell_type": "code",
   "execution_count": 72,
   "metadata": {},
   "outputs": [
    {
     "data": {
      "text/plain": [
       "<seaborn.axisgrid.PairGrid at 0x1a25c8d780>"
      ]
     },
     "execution_count": 72,
     "metadata": {},
     "output_type": "execute_result"
    },
    {
     "data": {
      "image/png": "[encoded data removed]",
      "text/plain": [
       "<Figure size 720x720 with 20 Axes>"
      ]
     },
     "metadata": {},
     "output_type": "display_data"
    }
   ],
   "source": [
    "sns.pairplot(global_gd)"
   ]
  },
  {
   "cell_type": "markdown",
   "metadata": {},
   "source": [
    "# Obtaining Global Gini Values"
   ]
  },
  {
   "cell_type": "code",
   "execution_count": 73,
   "metadata": {},
   "outputs": [
    {
     "name": "stderr",
     "output_type": "stream",
     "text": [
      "/Users/cricket/anaconda3/lib/python3.6/site-packages/ipykernel_launcher.py:1: ParserWarning: Falling back to the 'python' engine because the 'c' engine does not support regex separators (separators > 1 char and different from '\\s+' are interpreted as regex); you can avoid this warning by specifying engine='python'.\n",
      "  \"\"\"Entry point for launching an IPython kernel.\n"
     ]
    }
   ],
   "source": [
    "df = pd.read_csv('./worldbank_gini/cia_gini.txt', sep=\"([\\d.]+%?)\", header=None)"
   ]
  },
  {
   "cell_type": "code",
   "execution_count": 74,
   "metadata": {},
   "outputs": [],
   "source": [
    "df.iloc[:,2] = df.iloc[:,2].str.strip()"
   ]
  },
  {
   "cell_type": "code",
   "execution_count": 75,
   "metadata": {},
   "outputs": [],
   "source": [
    "df.drop([0, 1, 4], axis=1, inplace=True)"
   ]
  },
  {
   "cell_type": "code",
   "execution_count": 76,
   "metadata": {},
   "outputs": [
    {
     "data": {
      "text/html": [
       "<div>\n",
       "<style scoped>\n",
       "    .dataframe tbody tr th:only-of-type {\n",
       "        vertical-align: middle;\n",
       "    }\n",
       "\n",
       "    .dataframe tbody tr th {\n",
       "        vertical-align: top;\n",
       "    }\n",
       "\n",
       "    .dataframe thead th {\n",
       "        text-align: right;\n",
       "    }\n",
       "</style>\n",
       "<table border=\"1\" class=\"dataframe\">\n",
       "  <thead>\n",
       "    <tr style=\"text-align: right;\">\n",
       "      <th></th>\n",
       "      <th>2</th>\n",
       "      <th>3</th>\n",
       "    </tr>\n",
       "  </thead>\n",
       "  <tbody>\n",
       "    <tr>\n",
       "      <th>0</th>\n",
       "      <td>Lesotho</td>\n",
       "      <td>63.2</td>\n",
       "    </tr>\n",
       "  </tbody>\n",
       "</table>\n",
       "</div>"
      ],
      "text/plain": [
       "         2     3\n",
       "0  Lesotho  63.2"
      ]
     },
     "execution_count": 76,
     "metadata": {},
     "output_type": "execute_result"
    }
   ],
   "source": [
    "df.head(1)"
   ]
  },
  {
   "cell_type": "code",
   "execution_count": 77,
   "metadata": {},
   "outputs": [],
   "source": [
    "df.rename(columns={2:'country', 3:'gini'}, inplace=True)\n"
   ]
  },
  {
   "cell_type": "code",
   "execution_count": 78,
   "metadata": {},
   "outputs": [],
   "source": [
    "df.set_index('country', inplace=True)"
   ]
  },
  {
   "cell_type": "code",
   "execution_count": null,
   "metadata": {},
   "outputs": [],
   "source": []
  },
  {
   "cell_type": "code",
   "execution_count": 79,
   "metadata": {},
   "outputs": [],
   "source": [
    "global_gd = pd.merge(global_gd, df, left_index=True, right_index=True)"
   ]
  },
  {
   "cell_type": "code",
   "execution_count": 80,
   "metadata": {},
   "outputs": [
    {
     "data": {
      "text/html": [
       "<div>\n",
       "<style scoped>\n",
       "    .dataframe tbody tr th:only-of-type {\n",
       "        vertical-align: middle;\n",
       "    }\n",
       "\n",
       "    .dataframe tbody tr th {\n",
       "        vertical-align: top;\n",
       "    }\n",
       "\n",
       "    .dataframe thead th {\n",
       "        text-align: right;\n",
       "    }\n",
       "</style>\n",
       "<table border=\"1\" class=\"dataframe\">\n",
       "  <thead>\n",
       "    <tr style=\"text-align: right;\">\n",
       "      <th></th>\n",
       "      <th>guns_per_100_ppl</th>\n",
       "      <th>total</th>\n",
       "      <th>homicides</th>\n",
       "      <th>suicides</th>\n",
       "      <th>gini</th>\n",
       "    </tr>\n",
       "  </thead>\n",
       "  <tbody>\n",
       "    <tr>\n",
       "      <th>United States</th>\n",
       "      <td>120.5</td>\n",
       "      <td>11.96</td>\n",
       "      <td>4.62</td>\n",
       "      <td>7.10</td>\n",
       "      <td>45.0</td>\n",
       "    </tr>\n",
       "    <tr>\n",
       "      <th>Serbia</th>\n",
       "      <td>39.1</td>\n",
       "      <td>3.49</td>\n",
       "      <td>0.61</td>\n",
       "      <td>2.49</td>\n",
       "      <td>38.7</td>\n",
       "    </tr>\n",
       "    <tr>\n",
       "      <th>Montenegro</th>\n",
       "      <td>39.1</td>\n",
       "      <td>8.91</td>\n",
       "      <td>2.42</td>\n",
       "      <td>6.49</td>\n",
       "      <td>31.9</td>\n",
       "    </tr>\n",
       "    <tr>\n",
       "      <th>Canada</th>\n",
       "      <td>34.7</td>\n",
       "      <td>2.05</td>\n",
       "      <td>0.61</td>\n",
       "      <td>1.52</td>\n",
       "      <td>32.1</td>\n",
       "    </tr>\n",
       "    <tr>\n",
       "      <th>Uruguay</th>\n",
       "      <td>34.7</td>\n",
       "      <td>11.52</td>\n",
       "      <td>4.78</td>\n",
       "      <td>4.68</td>\n",
       "      <td>41.6</td>\n",
       "    </tr>\n",
       "  </tbody>\n",
       "</table>\n",
       "</div>"
      ],
      "text/plain": [
       "               guns_per_100_ppl  total  homicides  suicides  gini\n",
       "United States             120.5  11.96       4.62      7.10  45.0\n",
       "Serbia                     39.1   3.49       0.61      2.49  38.7\n",
       "Montenegro                 39.1   8.91       2.42      6.49  31.9\n",
       "Canada                     34.7   2.05       0.61      1.52  32.1\n",
       "Uruguay                    34.7  11.52       4.78      4.68  41.6"
      ]
     },
     "execution_count": 80,
     "metadata": {},
     "output_type": "execute_result"
    }
   ],
   "source": [
    "global_gd.head()"
   ]
  },
  {
   "cell_type": "code",
   "execution_count": 81,
   "metadata": {},
   "outputs": [
    {
     "data": {
      "text/html": [
       "<div>\n",
       "<style scoped>\n",
       "    .dataframe tbody tr th:only-of-type {\n",
       "        vertical-align: middle;\n",
       "    }\n",
       "\n",
       "    .dataframe tbody tr th {\n",
       "        vertical-align: top;\n",
       "    }\n",
       "\n",
       "    .dataframe thead th {\n",
       "        text-align: right;\n",
       "    }\n",
       "</style>\n",
       "<table border=\"1\" class=\"dataframe\">\n",
       "  <thead>\n",
       "    <tr style=\"text-align: right;\">\n",
       "      <th></th>\n",
       "      <th>total</th>\n",
       "    </tr>\n",
       "    <tr>\n",
       "      <th>gini</th>\n",
       "      <th></th>\n",
       "    </tr>\n",
       "  </thead>\n",
       "  <tbody>\n",
       "    <tr>\n",
       "      <th>23.7</th>\n",
       "      <td>1.830</td>\n",
       "    </tr>\n",
       "    <tr>\n",
       "      <th>24.4</th>\n",
       "      <td>2.640</td>\n",
       "    </tr>\n",
       "    <tr>\n",
       "      <th>24.9</th>\n",
       "      <td>1.470</td>\n",
       "    </tr>\n",
       "    <tr>\n",
       "      <th>25.9</th>\n",
       "      <td>1.240</td>\n",
       "    </tr>\n",
       "    <tr>\n",
       "      <th>26.8</th>\n",
       "      <td>1.390</td>\n",
       "    </tr>\n",
       "    <tr>\n",
       "      <th>27.0</th>\n",
       "      <td>1.010</td>\n",
       "    </tr>\n",
       "    <tr>\n",
       "      <th>27.2</th>\n",
       "      <td>3.250</td>\n",
       "    </tr>\n",
       "    <tr>\n",
       "      <th>27.3</th>\n",
       "      <td>0.140</td>\n",
       "    </tr>\n",
       "    <tr>\n",
       "      <th>28.0</th>\n",
       "      <td>0.070</td>\n",
       "    </tr>\n",
       "    <tr>\n",
       "      <th>28.2</th>\n",
       "      <td>0.950</td>\n",
       "    </tr>\n",
       "    <tr>\n",
       "      <th>29.0</th>\n",
       "      <td>1.280</td>\n",
       "    </tr>\n",
       "    <tr>\n",
       "      <th>29.3</th>\n",
       "      <td>2.830</td>\n",
       "    </tr>\n",
       "    <tr>\n",
       "      <th>29.5</th>\n",
       "      <td>3.010</td>\n",
       "    </tr>\n",
       "    <tr>\n",
       "      <th>30.3</th>\n",
       "      <td>0.810</td>\n",
       "    </tr>\n",
       "    <tr>\n",
       "      <th>30.4</th>\n",
       "      <td>1.190</td>\n",
       "    </tr>\n",
       "    <tr>\n",
       "      <th>30.5</th>\n",
       "      <td>2.900</td>\n",
       "    </tr>\n",
       "    <tr>\n",
       "      <th>30.8</th>\n",
       "      <td>1.305</td>\n",
       "    </tr>\n",
       "    <tr>\n",
       "      <th>31.3</th>\n",
       "      <td>0.800</td>\n",
       "    </tr>\n",
       "    <tr>\n",
       "      <th>31.9</th>\n",
       "      <td>5.110</td>\n",
       "    </tr>\n",
       "    <tr>\n",
       "      <th>32.1</th>\n",
       "      <td>2.050</td>\n",
       "    </tr>\n",
       "    <tr>\n",
       "      <th>32.4</th>\n",
       "      <td>0.230</td>\n",
       "    </tr>\n",
       "    <tr>\n",
       "      <th>33.4</th>\n",
       "      <td>1.010</td>\n",
       "    </tr>\n",
       "    <tr>\n",
       "      <th>33.7</th>\n",
       "      <td>0.070</td>\n",
       "    </tr>\n",
       "    <tr>\n",
       "      <th>33.9</th>\n",
       "      <td>1.580</td>\n",
       "    </tr>\n",
       "    <tr>\n",
       "      <th>34.5</th>\n",
       "      <td>1.430</td>\n",
       "    </tr>\n",
       "    <tr>\n",
       "      <th>34.8</th>\n",
       "      <td>2.270</td>\n",
       "    </tr>\n",
       "    <tr>\n",
       "      <th>35.0</th>\n",
       "      <td>30.720</td>\n",
       "    </tr>\n",
       "    <tr>\n",
       "      <th>35.2</th>\n",
       "      <td>0.280</td>\n",
       "    </tr>\n",
       "    <tr>\n",
       "      <th>35.9</th>\n",
       "      <td>0.620</td>\n",
       "    </tr>\n",
       "    <tr>\n",
       "      <th>36.0</th>\n",
       "      <td>45.600</td>\n",
       "    </tr>\n",
       "    <tr>\n",
       "      <th>36.2</th>\n",
       "      <td>1.070</td>\n",
       "    </tr>\n",
       "    <tr>\n",
       "      <th>36.7</th>\n",
       "      <td>1.520</td>\n",
       "    </tr>\n",
       "    <tr>\n",
       "      <th>37.9</th>\n",
       "      <td>0.060</td>\n",
       "    </tr>\n",
       "    <tr>\n",
       "      <th>38.7</th>\n",
       "      <td>3.490</td>\n",
       "    </tr>\n",
       "    <tr>\n",
       "      <th>39.0</th>\n",
       "      <td>59.130</td>\n",
       "    </tr>\n",
       "    <tr>\n",
       "      <th>40.1</th>\n",
       "      <td>1.980</td>\n",
       "    </tr>\n",
       "    <tr>\n",
       "      <th>40.2</th>\n",
       "      <td>1.840</td>\n",
       "    </tr>\n",
       "    <tr>\n",
       "      <th>41.6</th>\n",
       "      <td>11.520</td>\n",
       "    </tr>\n",
       "    <tr>\n",
       "      <th>41.7</th>\n",
       "      <td>6.930</td>\n",
       "    </tr>\n",
       "    <tr>\n",
       "      <th>42.8</th>\n",
       "      <td>2.090</td>\n",
       "    </tr>\n",
       "    <tr>\n",
       "      <th>43.2</th>\n",
       "      <td>0.390</td>\n",
       "    </tr>\n",
       "    <tr>\n",
       "      <th>45.0</th>\n",
       "      <td>11.960</td>\n",
       "    </tr>\n",
       "    <tr>\n",
       "      <th>45.3</th>\n",
       "      <td>5.530</td>\n",
       "    </tr>\n",
       "    <tr>\n",
       "      <th>45.9</th>\n",
       "      <td>0.025</td>\n",
       "    </tr>\n",
       "    <tr>\n",
       "      <th>47.1</th>\n",
       "      <td>32.340</td>\n",
       "    </tr>\n",
       "    <tr>\n",
       "      <th>48.2</th>\n",
       "      <td>7.640</td>\n",
       "    </tr>\n",
       "    <tr>\n",
       "      <th>48.5</th>\n",
       "      <td>6.300</td>\n",
       "    </tr>\n",
       "    <tr>\n",
       "      <th>49.0</th>\n",
       "      <td>21.900</td>\n",
       "    </tr>\n",
       "    <tr>\n",
       "      <th>50.5</th>\n",
       "      <td>2.400</td>\n",
       "    </tr>\n",
       "    <tr>\n",
       "      <th>50.7</th>\n",
       "      <td>15.110</td>\n",
       "    </tr>\n",
       "    <tr>\n",
       "      <th>51.1</th>\n",
       "      <td>18.650</td>\n",
       "    </tr>\n",
       "    <tr>\n",
       "      <th>51.7</th>\n",
       "      <td>7.760</td>\n",
       "    </tr>\n",
       "    <tr>\n",
       "      <th>53.0</th>\n",
       "      <td>34.100</td>\n",
       "    </tr>\n",
       "    <tr>\n",
       "      <th>62.5</th>\n",
       "      <td>8.300</td>\n",
       "    </tr>\n",
       "  </tbody>\n",
       "</table>\n",
       "</div>"
      ],
      "text/plain": [
       "       total\n",
       "gini        \n",
       "23.7   1.830\n",
       "24.4   2.640\n",
       "24.9   1.470\n",
       "25.9   1.240\n",
       "26.8   1.390\n",
       "27.0   1.010\n",
       "27.2   3.250\n",
       "27.3   0.140\n",
       "28.0   0.070\n",
       "28.2   0.950\n",
       "29.0   1.280\n",
       "29.3   2.830\n",
       "29.5   3.010\n",
       "30.3   0.810\n",
       "30.4   1.190\n",
       "30.5   2.900\n",
       "30.8   1.305\n",
       "31.3   0.800\n",
       "31.9   5.110\n",
       "32.1   2.050\n",
       "32.4   0.230\n",
       "33.4   1.010\n",
       "33.7   0.070\n",
       "33.9   1.580\n",
       "34.5   1.430\n",
       "34.8   2.270\n",
       "35.0  30.720\n",
       "35.2   0.280\n",
       "35.9   0.620\n",
       "36.0  45.600\n",
       "36.2   1.070\n",
       "36.7   1.520\n",
       "37.9   0.060\n",
       "38.7   3.490\n",
       "39.0  59.130\n",
       "40.1   1.980\n",
       "40.2   1.840\n",
       "41.6  11.520\n",
       "41.7   6.930\n",
       "42.8   2.090\n",
       "43.2   0.390\n",
       "45.0  11.960\n",
       "45.3   5.530\n",
       "45.9   0.025\n",
       "47.1  32.340\n",
       "48.2   7.640\n",
       "48.5   6.300\n",
       "49.0  21.900\n",
       "50.5   2.400\n",
       "50.7  15.110\n",
       "51.1  18.650\n",
       "51.7   7.760\n",
       "53.0  34.100\n",
       "62.5   8.300"
      ]
     },
     "execution_count": 81,
     "metadata": {},
     "output_type": "execute_result"
    }
   ],
   "source": [
    "# for each value in column_x, calculate the mean column_y \n",
    "pd.DataFrame(global_gd.groupby('gini').total.mean())"
   ]
  },
  {
   "cell_type": "code",
   "execution_count": 82,
   "metadata": {
    "scrolled": true
   },
   "outputs": [
    {
     "data": {
      "image/png": "[encoded data removed]",
      "text/plain": [
       "<Figure size 720x1440 with 1 Axes>"
      ]
     },
     "metadata": {},
     "output_type": "display_data"
    }
   ],
   "source": [
    "f, ax = plt.subplots(figsize=(10, 20))\n",
    "\n",
    "sns.barplot(x=\"guns_per_100_ppl\", \n",
    "            y=global_gd.sort_values('guns_per_100_ppl', ascending=False).index, \n",
    "            data=global_gd.sort_values('guns_per_100_ppl', ascending=False),                                                                                  \n",
    "            color=\"grey\",\n",
    "            alpha=.7)\n",
    "sns.barplot(x=\"total\", \n",
    "            y=global_gd.sort_values('guns_per_100_ppl', ascending=False).index, \n",
    "            data=global_gd.sort_values('guns_per_100_ppl', ascending=False),                                                                                  \n",
    "            color=\"crimson\",\n",
    "            alpha=.7)\n",
    "ylabel=\"\"\n",
    "xlabel=\"Guns/Gun Deaths per Capita\"\n",
    "sns.despine(left=True, bottom=True)"
   ]
  },
  {
   "cell_type": "code",
   "execution_count": 83,
   "metadata": {},
   "outputs": [],
   "source": [
    "global_gd.to_csv('global_gd.csv')"
   ]
  }
 ],
 "metadata": {
  "kernelspec": {
   "display_name": "Python 3",
   "language": "python",
   "name": "python3"
  },
  "language_info": {
   "codemirror_mode": {
    "name": "ipython",
    "version": 3
   },
   "file_extension": ".py",
   "mimetype": "text/x-python",
   "name": "python",
   "nbconvert_exporter": "python",
   "pygments_lexer": "ipython3",
   "version": "3.6.5"
  }
 },
 "nbformat": 4,
 "nbformat_minor": 2
}
